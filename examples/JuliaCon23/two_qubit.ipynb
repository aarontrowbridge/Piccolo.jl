{
 "cells": [
  {
   "cell_type": "markdown",
   "metadata": {},
   "source": [
    "# Two Qubit CNOT Gate with Piccolo.jl"
   ]
  },
  {
   "cell_type": "code",
   "execution_count": 1,
   "metadata": {},
   "outputs": [],
   "source": [
    "using Revise\n",
    "using Piccolo\n",
    "using SparseArrays\n",
    "using LinearAlgebra"
   ]
  },
  {
   "cell_type": "markdown",
   "metadata": {},
   "source": [
    "## System Hamiltonian\n",
    "\n",
    "The Hamiltonian for this two qubit system example is given by\n",
    "\n",
    "$$\n",
    "H(u(t)) = g \\hat a^\\dagger \\hat a \\hat b^\\dagger \\hat b + a_1(t) (\\hat a + \\hat a^\\dagger) + i a_2(t) (\\hat a - \\hat a^\\dagger) + a_3(t) (\\hat b + \\hat b^\\dagger) + i a_4(t)(\\hat b - \\hat b^\\dagger) \n",
    "$$\n",
    "\n",
    "where $\\hat a$ and $\\hat b$ are the annihilation operators for the first and second qubit respectively, $g$ is the coupling strength, and $u_i(t)$ are the control functions.\n"
   ]
  },
  {
   "cell_type": "code",
   "execution_count": 2,
   "metadata": {},
   "outputs": [
    {
     "data": {
      "text/plain": [
       "TwoQubitSystem (generic function with 1 method)"
      ]
     },
     "metadata": {},
     "output_type": "display_data"
    }
   ],
   "source": [
    "function TwoQubitSystem(levels::Int)\n",
    "\n",
    "    g_coupling = 0.1 # GHz (linear units)\n",
    "\n",
    "    # annihilation operator for qubit 1 \n",
    "    â = lift(annihilate(levels), 1, 2)\n",
    "\n",
    "    # annihilation operator for qubit 2\n",
    "    b̂ = lift(annihilate(levels), 2, 2);\n",
    "\n",
    "    # drift Hamiltonian\n",
    "    H_drift = 2π * g_coupling * â' * â * b̂' * b̂\n",
    "\n",
    "    # drive Hamiltonians\n",
    "    H_drives = [\n",
    "        2π * (â + â'),\n",
    "        2π * 1.0im * (â - â'),\n",
    "        2π * (b̂ + b̂'),\n",
    "        2π * 1.0im * (b̂ - b̂') \n",
    "    ]\n",
    "\n",
    "    return QuantumSystem(H_drift, H_drives);\n",
    "end"
   ]
  },
  {
   "cell_type": "code",
   "execution_count": 3,
   "metadata": {},
   "outputs": [],
   "source": [
    "levels_per_qubit = 2\n",
    "system = TwoQubitSystem(levels_per_qubit);"
   ]
  },
  {
   "cell_type": "markdown",
   "metadata": {},
   "source": [
    "## CNOT Unitary Gate\n",
    "\n",
    "The goal gate that we will be optimizing for is the CNOT gate defined as\n",
    "\n",
    "$$\n",
    "U_{CNOT} = \\begin{pmatrix}\n",
    "1 & 0 & 0 & 0 \\\\\n",
    "0 & 1 & 0 & 0 \\\\\n",
    "0 & 0 & 0 & 1 \\\\\n",
    "0 & 0 & 1 & 0\n",
    "\\end{pmatrix}\n",
    "$$\n"
   ]
  },
  {
   "cell_type": "code",
   "execution_count": 4,
   "metadata": {},
   "outputs": [],
   "source": [
    "U_goal = [\n",
    "    1 0 0 0;\n",
    "    0 1 0 0;\n",
    "    0 0 0 1;\n",
    "    0 0 1 0\n",
    "]; "
   ]
  },
  {
   "cell_type": "markdown",
   "metadata": {},
   "source": [
    "## Temporal Discretization Parameters\n",
    "\n",
    "Here we will define the temporal discretization parameters for the control functions. We will use a total time of $T = 10$ and a time step of $\\Delta t = 0.1$."
   ]
  },
  {
   "cell_type": "code",
   "execution_count": 5,
   "metadata": {},
   "outputs": [],
   "source": [
    "T = 15.0 # ns\n",
    "N = 100\n",
    "Δt = T / N;"
   ]
  },
  {
   "cell_type": "markdown",
   "metadata": {},
   "source": [
    "## Pulse Constraints\n",
    "\n",
    "Here we define bounds on the control as well as a constraint on the second derivative of the control that enforces smoothness of the pulse."
   ]
  },
  {
   "cell_type": "code",
   "execution_count": 6,
   "metadata": {},
   "outputs": [],
   "source": [
    "a_bound = 0.02 # GHz\n",
    "dda_bound = 0.2; # bound on second derivative of control, to ensure smoothness"
   ]
  },
  {
   "cell_type": "markdown",
   "metadata": {},
   "source": [
    "## Defining The Problem\n",
    "\n",
    "Here we define the problem using the `UnitarySmoothPulseProblem` which handles setting up a smoothness constrained pulse optimization problem for a unitary gate."
   ]
  },
  {
   "cell_type": "code",
   "execution_count": 7,
   "metadata": {},
   "outputs": [],
   "source": [
    "# setting maximum number of iterations \n",
    "max_iter = 100 \n",
    "\n",
    "prob = UnitarySmoothPulseProblem(\n",
    "    system,\n",
    "    U_goal,\n",
    "    N,\n",
    "    Δt;\n",
    "    a_bound=a_bound,\n",
    "    dda_bound=dda_bound,\n",
    "    max_iter=max_iter\n",
    ")"
   ]
  },
  {
   "cell_type": "markdown",
   "metadata": {},
   "source": [
    "Here we plot the initial guess for the unitary and controls, which are stored as `Symbol`s, `:Ũ⃗` and `:a`, respectively. Note that the initial guess for the unitary is not random, it is in fact the geodesic path between the identity and the target unitary. This is not required for the optimizer to converge, but it can help speed up convergence."
   ]
  },
  {
   "cell_type": "code",
   "execution_count": null,
   "metadata": {},
   "outputs": [],
   "source": [
    "plot(prob.trajectory, [:Ũ⃗, :a]; ignored_labels=[:Ũ⃗])"
   ]
  },
  {
   "cell_type": "markdown",
   "metadata": {},
   "source": [
    "Here we call the `solve!` method on the problem, which uses the interior point nonlinear solver IPOPT to optimize over the states and controls of the problem."
   ]
  },
  {
   "cell_type": "code",
   "execution_count": null,
   "metadata": {},
   "outputs": [],
   "source": [
    "QuantumCollocation.solve!(prob)"
   ]
  },
  {
   "cell_type": "markdown",
   "metadata": {},
   "source": [
    "Let's now calculate the fidelity of the optimized unitary with the target unitary, via rollout with the full matrix exponential, this is achieved via the `unitary_fidelity` method."
   ]
  },
  {
   "cell_type": "code",
   "execution_count": null,
   "metadata": {},
   "outputs": [],
   "source": [
    "fid = unitary_fidelity(prob.trajectory, system)\n",
    "println(\"Fidelity: $fid\")"
   ]
  },
  {
   "cell_type": "markdown",
   "metadata": {},
   "source": [
    "And now let's plot the final solution for the unitary and controls."
   ]
  },
  {
   "cell_type": "code",
   "execution_count": null,
   "metadata": {},
   "outputs": [],
   "source": [
    "plot(prob.trajectory, [:Ũ⃗, :a]; ignored_labels=[:Ũ⃗])"
   ]
  },
  {
   "cell_type": "markdown",
   "metadata": {},
   "source": [
    "## Minimum Time CNOT\n",
    "\n",
    "Now let's see how fast we can make this pulse, by setting up and solving a minimum time problem, using the solution we just found.\n",
    "\n",
    "We will add an objective term to the problem that penalizes the total time, as well as constraint on the final state of the form\n",
    "\n",
    "$$\n",
    "\\mathcal{F}(U(T)) \\geq \\mathcal{F}_{\\text{target}}.\n",
    "$$\n",
    "\n",
    "This enforce that the final fidelity does not decrease below the threshold $\\mathcal{F}_{\\text{target}}$, while also allowing the phase to shift."
   ]
  },
  {
   "cell_type": "code",
   "execution_count": null,
   "metadata": {},
   "outputs": [],
   "source": [
    "# final fidelity constraint\n",
    "min_fidelity = 0.9999\n",
    "\n",
    "# minimum time objective weight\n",
    "D = 1000.0\n",
    "\n",
    "# define the problem\n",
    "mintime_prob = UnitaryMinimumTimeProblem(prob; D=D, final_fidelity=min_fidelity);"
   ]
  },
  {
   "cell_type": "code",
   "execution_count": null,
   "metadata": {},
   "outputs": [],
   "source": [
    "# solving the problem\n",
    "QuantumCollocation.solve!(mintime_prob)"
   ]
  },
  {
   "cell_type": "code",
   "execution_count": null,
   "metadata": {},
   "outputs": [],
   "source": [
    "mintime_final_fidelity = unitary_fidelity(mintime_prob.trajectory, system)\n",
    "println(\"Fidelity: $mintime_final_fidelity\")"
   ]
  },
  {
   "cell_type": "code",
   "execution_count": null,
   "metadata": {},
   "outputs": [],
   "source": [
    "plot(mintime_prob.trajectory, [:Ũ⃗, :a]; ignored_labels=[:Ũ⃗])"
   ]
  },
  {
   "cell_type": "code",
   "execution_count": null,
   "metadata": {},
   "outputs": [],
   "source": [
    "original_duration = times(prob.trajectory)[end]\n",
    "mintime_duration = times(mintime_prob.trajectory)[end]\n",
    "println(\"Original Duration: $original_duration ns\")\n",
    "println(\"Minimum Duration:  $mintime_duration ns\")"
   ]
  },
  {
   "cell_type": "markdown",
   "metadata": {},
   "source": [
    "## Model Mistmatch and Iterative Learning Control\n",
    "\n",
    "Now let's imagine that our goal is to test this pulse on an experimental system where we know there are more levels than the two per qubit we used in our original model. We can simulate this by testing out pulse on a 3 level system."
   ]
  },
  {
   "cell_type": "code",
   "execution_count": null,
   "metadata": {},
   "outputs": [],
   "source": [
    "experimental_levels = 4\n",
    "experimental_system = TwoQubitSystem(experimental_levels);"
   ]
  },
  {
   "cell_type": "code",
   "execution_count": null,
   "metadata": {},
   "outputs": [],
   "source": [
    "# define quantum ground state |g⟩\n",
    "g = cavity_state(0, experimental_levels)\n",
    "\n",
    "# define quantum excited state |e⟩\n",
    "e = cavity_state(1, experimental_levels)\n",
    "\n",
    "# define quantum states |gg⟩, |ge⟩, |eg⟩, |ee⟩\n",
    "gg = g ⊗ g\n",
    "ge = g ⊗ e\n",
    "eg = e ⊗ g\n",
    "ee = e ⊗ e\n",
    "\n",
    "# define CNOT gate\n",
    "U = gg * gg' + ge * ge' + ee * eg' + eg * ee' \n",
    "U |> Matrix{Float64} |> sparse\n"
   ]
  },
  {
   "cell_type": "code",
   "execution_count": null,
   "metadata": {},
   "outputs": [],
   "source": [
    "# define a measurement function that calculates the fidelity of the pulse evolving and initial |gg⟩ state to the target gate\n",
    "measurement = ψ̃ -> [fidelity(iso_to_ket(ψ̃), U * gg)] \n",
    "\n",
    "# define the measurement times\n",
    "τs = [prob.trajectory.T]\n",
    "\n",
    "# define the simulation experiment\n",
    "experiment = QuantumSimulationExperiment(\n",
    "    experimental_system,\n",
    "    ket_to_iso(gg),\n",
    "    measurement,\n",
    "    τs\n",
    ");"
   ]
  },
  {
   "cell_type": "code",
   "execution_count": null,
   "metadata": {},
   "outputs": [],
   "source": [
    "# rollout |gg⟩ with the pulse extract the final state\n",
    "\n",
    "A = mintime_prob.trajectory.a\n",
    "Δt = vec(mintime_prob.trajectory.Δt)\n",
    "\n",
    "y = experiment(A, Δt).ys[end]\n",
    "\n",
    "println(\"Fidelity: $y\")"
   ]
  },
  {
   "cell_type": "code",
   "execution_count": null,
   "metadata": {},
   "outputs": [],
   "source": [
    "y_goal = measurement(ket_to_iso(U * gg)) \n",
    "J(ŷ) = norm(ŷ - y_goal, 1)\n",
    "optimizer = BacktrackingLineSearch(J);"
   ]
  },
  {
   "cell_type": "code",
   "execution_count": null,
   "metadata": {},
   "outputs": [],
   "source": [
    "max_iter = 5\n",
    "\n",
    "ILC_prob = ILCProblem(\n",
    "    mintime_prob.trajectory, \n",
    "    mintime_prob.system, \n",
    "    mintime_prob.integrators,\n",
    "    experiment, \n",
    "    optimizer;\n",
    "    max_iter=max_iter\n",
    ")"
   ]
  },
  {
   "cell_type": "code",
   "execution_count": 35,
   "metadata": {},
   "outputs": [
    {
     "name": "stdout",
     "output_type": "stream",
     "text": [
      "\n",
      "Iteration 1\n",
      "\n",
      "\n",
      "    J(Aⁱ) = 0.015503231298470421\n",
      "\n"
     ]
    },
    {
     "name": "stdout",
     "output_type": "stream",
     "text": [
      "        α < cutoff\n"
     ]
    },
    {
     "name": "stdout",
     "output_type": "stream",
     "text": [
      "\n",
      "Iteration 2\n",
      "\n",
      "\n",
      "    J(Aⁱ) = 0.015503231298470421\n",
      "\n"
     ]
    },
    {
     "name": "stdout",
     "output_type": "stream",
     "text": [
      "        α < cutoff\n"
     ]
    },
    {
     "name": "stdout",
     "output_type": "stream",
     "text": [
      "\n",
      "Iteration 3\n",
      "\n",
      "\n",
      "    J(Aⁱ) = 0.015503231298470421\n",
      "\n"
     ]
    },
    {
     "name": "stdout",
     "output_type": "stream",
     "text": [
      "        α < cutoff\n"
     ]
    },
    {
     "name": "stdout",
     "output_type": "stream",
     "text": [
      "\n",
      "Iteration 4\n",
      "\n",
      "\n",
      "    J(Aⁱ) = 0.015503231298470421\n",
      "\n"
     ]
    },
    {
     "name": "stdout",
     "output_type": "stream",
     "text": [
      "        α < cutoff\n"
     ]
    },
    {
     "name": "stdout",
     "output_type": "stream",
     "text": [
      "\n",
      "Iteration 5\n",
      "\n",
      "\n",
      "    J(Aⁱ) = 0.015503231298470421\n",
      "\n"
     ]
    },
    {
     "name": "stdout",
     "output_type": "stream",
     "text": [
      "        α < cutoff\n"
     ]
    }
   ],
   "source": [
    "solve!(ILC_prob)"
   ]
  },
  {
   "cell_type": "code",
   "execution_count": null,
   "metadata": {},
   "outputs": [],
   "source": []
  },
  {
   "cell_type": "code",
   "execution_count": null,
   "metadata": {},
   "outputs": [],
   "source": []
  },
  {
   "cell_type": "code",
   "execution_count": null,
   "metadata": {},
   "outputs": [],
   "source": []
  }
 ],
 "metadata": {
  "kernelspec": {
   "display_name": "Julia 1.9.2",
   "language": "julia",
   "name": "julia-1.9"
  },
  "language_info": {
   "file_extension": ".jl",
   "mimetype": "application/julia",
   "name": "julia",
   "version": "1.9.2"
  },
  "orig_nbformat": 4
 },
 "nbformat": 4,
 "nbformat_minor": 2
}
