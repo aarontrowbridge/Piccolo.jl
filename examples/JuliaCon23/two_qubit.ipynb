{
 "cells": [
  {
   "cell_type": "markdown",
   "metadata": {},
   "source": [
    "# Two Qubit CNOT Gate with Piccolo.jl"
   ]
  },
  {
   "cell_type": "code",
   "execution_count": 29,
   "metadata": {},
   "outputs": [],
   "source": [
    "using Revise\n",
    "using LinearAlgebra\n",
    "using Piccolo"
   ]
  },
  {
   "cell_type": "markdown",
   "metadata": {},
   "source": [
    "## System Hamiltonian\n",
    "\n",
    "The Hamiltonian for this two qubit system example is given by\n",
    "\n",
    "$$\n",
    "H(u(t)) = g \\hat a^\\dagger \\hat a \\hat b^\\dagger \\hat b + a_1(t) (\\hat a + \\hat a^\\dagger) + i a_2(t) (\\hat a - \\hat a^\\dagger) + a_3(t) (\\hat b + \\hat b^\\dagger) + i a_4(t)(\\hat b - \\hat b^\\dagger) \n",
    "$$\n",
    "\n",
    "where $\\hat a$ and $\\hat b$ are the annihilation operators for the first and second qubit respectively, $g$ is the coupling strength, and $u_i(t)$ are the control functions.\n"
   ]
  },
  {
   "cell_type": "code",
   "execution_count": 2,
   "metadata": {},
   "outputs": [],
   "source": [
    "function TwoQubitSystem(levels::Int)\n",
    "\n",
    "    g_coupling = 0.1 # GHz (linear units)\n",
    "\n",
    "    # annihilation operator for qubit 1 \n",
    "    â = lift(annihilate(levels), 1, 2)\n",
    "\n",
    "    # annihilation operator for qubit 2\n",
    "    b̂ = lift(annihilate(levels), 2, 2);\n",
    "\n",
    "    # drift Hamiltonian\n",
    "    H_drift = 2π * g_coupling * â' * â * b̂' * b̂\n",
    "\n",
    "    # drive Hamiltonians\n",
    "    H_drives = [\n",
    "        2π * (â + â'),\n",
    "        2π * 1.0im * (â - â'),\n",
    "        2π * (b̂ + b̂'),\n",
    "        2π * 1.0im * (b̂ - b̂') \n",
    "    ]\n",
    "\n",
    "    return QuantumSystem(H_drift, H_drives);\n",
    "end;"
   ]
  },
  {
   "cell_type": "code",
   "execution_count": 3,
   "metadata": {},
   "outputs": [
    {
     "ename": "UndefVarError",
     "evalue": "UndefVarError: `annihilate` not defined",
     "output_type": "error",
     "traceback": [
      "UndefVarError: `annihilate` not defined\n",
      "\n",
      "Stacktrace:\n",
      " [1] TwoQubitSystem(levels::Int64)\n",
      "   @ Main ~/work/RExLab/JuliaPackages/Piccolo.jl/examples/JuliaCon23/two_qubit.ipynb:6\n",
      " [2] top-level scope\n",
      "   @ ~/work/RExLab/JuliaPackages/Piccolo.jl/examples/JuliaCon23/two_qubit.ipynb:2"
     ]
    }
   ],
   "source": [
    "levels_per_qubit = 2\n",
    "system = TwoQubitSystem(levels_per_qubit);"
   ]
  },
  {
   "cell_type": "markdown",
   "metadata": {},
   "source": [
    "## CNOT Unitary Gate\n",
    "\n",
    "The goal gate that we will be optimizing for is the CNOT gate defined as\n",
    "\n",
    "$$\n",
    "U_{CNOT} = \\begin{pmatrix}\n",
    "1 & 0 & 0 & 0 \\\\\n",
    "0 & 1 & 0 & 0 \\\\\n",
    "0 & 0 & 0 & 1 \\\\\n",
    "0 & 0 & 1 & 0\n",
    "\\end{pmatrix}\n",
    "$$\n"
   ]
  },
  {
   "cell_type": "code",
   "execution_count": 4,
   "metadata": {},
   "outputs": [],
   "source": [
    "U_goal = [\n",
    "    1 0 0 0;\n",
    "    0 1 0 0;\n",
    "    0 0 0 1;\n",
    "    0 0 1 0\n",
    "]; "
   ]
  },
  {
   "cell_type": "markdown",
   "metadata": {},
   "source": [
    "## Time Discretization Parameters\n",
    "\n",
    "Here we will define the temporal discretization parameters for the control functions. We will use a total time of $T = 15$ and a time step of $\\Delta t = 0.1$."
   ]
  },
  {
   "cell_type": "code",
   "execution_count": 5,
   "metadata": {},
   "outputs": [],
   "source": [
    "T = 15.0 # ns\n",
    "N = 100\n",
    "Δt = T / N;"
   ]
  },
  {
   "cell_type": "markdown",
   "metadata": {},
   "source": [
    "## Pulse Constraints\n",
    "\n",
    "Here we define bounds on the control as well as a constraint on the second derivative of the control that enforces smoothness of the pulse."
   ]
  },
  {
   "cell_type": "code",
   "execution_count": 6,
   "metadata": {},
   "outputs": [],
   "source": [
    "a_bound = 0.0175 # GHz\n",
    "dda_bound = 0.2; # bound on second derivative of control, to ensure smoothness"
   ]
  },
  {
   "cell_type": "markdown",
   "metadata": {},
   "source": [
    "## Defining The Problem\n",
    "\n",
    "Here we define the problem using the `UnitarySmoothPulseProblem` which handles setting up a smoothness constrained pulse optimization problem for a unitary gate."
   ]
  },
  {
   "cell_type": "code",
   "execution_count": 7,
   "metadata": {},
   "outputs": [
    {
     "ename": "UndefVarError",
     "evalue": "UndefVarError: `UnitarySmoothPulseProblem` not defined",
     "output_type": "error",
     "traceback": [
      "UndefVarError: `UnitarySmoothPulseProblem` not defined\n",
      "\n",
      "Stacktrace:\n",
      " [1] top-level scope\n",
      "   @ ~/work/RExLab/JuliaPackages/Piccolo.jl/examples/JuliaCon23/two_qubit.ipynb:5"
     ]
    }
   ],
   "source": [
    "# setting maximum number of iterations \n",
    "max_iter = 100 \n",
    "\n",
    "# TODO: change const violation tolerance\n",
    "prob = UnitarySmoothPulseProblem(\n",
    "    system,\n",
    "    U_goal,\n",
    "    N,\n",
    "    Δt;\n",
    "    a_bound=a_bound,\n",
    "    dda_bound=dda_bound,\n",
    "    max_iter=max_iter,\n",
    ")"
   ]
  },
  {
   "cell_type": "markdown",
   "metadata": {},
   "source": [
    "Here we plot the initial guess for the unitary and controls, which are stored as `Symbol`s, `:Ũ⃗` and `:a`, respectively. Note that the initial guess for the unitary is not random, it is in fact the geodesic path between the identity and the target unitary. This is not required for the optimizer to converge, but it can help speed up convergence."
   ]
  },
  {
   "cell_type": "code",
   "execution_count": 8,
   "metadata": {},
   "outputs": [
    {
     "ename": "UndefVarError",
     "evalue": "UndefVarError: `plot` not defined",
     "output_type": "error",
     "traceback": [
      "UndefVarError: `plot` not defined\n",
      "\n",
      "Stacktrace:\n",
      " [1] top-level scope\n",
      "   @ ~/work/RExLab/JuliaPackages/Piccolo.jl/examples/JuliaCon23/two_qubit.ipynb:1"
     ]
    }
   ],
   "source": [
    "plot(prob.trajectory, [:Ũ⃗, :a]; ignored_labels=[:Ũ⃗])"
   ]
  },
  {
   "cell_type": "code",
   "execution_count": 9,
   "metadata": {},
   "outputs": [
    {
     "ename": "UndefVarError",
     "evalue": "UndefVarError: `prob` not defined",
     "output_type": "error",
     "traceback": [
      "UndefVarError: `prob` not defined\n",
      "\n",
      "Stacktrace:\n",
      " [1] top-level scope\n",
      "   @ ~/work/RExLab/JuliaPackages/Piccolo.jl/examples/JuliaCon23/two_qubit.ipynb:1"
     ]
    }
   ],
   "source": [
    "traj = prob.trajectory\n",
    "traj.names"
   ]
  },
  {
   "cell_type": "code",
   "execution_count": 10,
   "metadata": {},
   "outputs": [
    {
     "ename": "UndefVarError",
     "evalue": "UndefVarError: `traj` not defined",
     "output_type": "error",
     "traceback": [
      "UndefVarError: `traj` not defined\n",
      "\n",
      "Stacktrace:\n",
      " [1] top-level scope\n",
      "   @ ~/work/RExLab/JuliaPackages/Piccolo.jl/examples/JuliaCon23/two_qubit.ipynb:1"
     ]
    }
   ],
   "source": [
    "traj.dim * traj.T"
   ]
  },
  {
   "cell_type": "markdown",
   "metadata": {},
   "source": [
    "Here we call the `solve!` method on the problem, which uses the interior point nonlinear solver IPOPT to optimize over the states and controls of the problem."
   ]
  },
  {
   "cell_type": "code",
   "execution_count": 11,
   "metadata": {},
   "outputs": [
    {
     "ename": "UndefVarError",
     "evalue": "UndefVarError: `QuantumCollocation` not defined",
     "output_type": "error",
     "traceback": [
      "UndefVarError: `QuantumCollocation` not defined\n",
      "\n",
      "Stacktrace:\n",
      " [1] top-level scope\n",
      "   @ ~/work/RExLab/JuliaPackages/Piccolo.jl/examples/JuliaCon23/two_qubit.ipynb:1"
     ]
    }
   ],
   "source": [
    "QuantumCollocation.solve!(prob)"
   ]
  },
  {
   "cell_type": "markdown",
   "metadata": {},
   "source": [
    "Let's now calculate the fidelity of the optimized unitary with the target unitary, via rollout with the full matrix exponential, this is achieved via the `unitary_fidelity` method."
   ]
  },
  {
   "cell_type": "code",
   "execution_count": 12,
   "metadata": {},
   "outputs": [
    {
     "ename": "UndefVarError",
     "evalue": "UndefVarError: `prob` not defined",
     "output_type": "error",
     "traceback": [
      "UndefVarError: `prob` not defined\n",
      "\n",
      "Stacktrace:\n",
      " [1] top-level scope\n",
      "   @ ~/work/RExLab/JuliaPackages/Piccolo.jl/examples/JuliaCon23/two_qubit.ipynb:1"
     ]
    }
   ],
   "source": [
    "fid = unitary_fidelity(prob.trajectory, system)\n",
    "println(\"Fidelity: $fid\")"
   ]
  },
  {
   "cell_type": "markdown",
   "metadata": {},
   "source": [
    "And now let's plot the final solution for the unitary and controls."
   ]
  },
  {
   "cell_type": "code",
   "execution_count": 13,
   "metadata": {},
   "outputs": [
    {
     "ename": "UndefVarError",
     "evalue": "UndefVarError: `plot` not defined",
     "output_type": "error",
     "traceback": [
      "UndefVarError: `plot` not defined\n",
      "\n",
      "Stacktrace:\n",
      " [1] top-level scope\n",
      "   @ ~/work/RExLab/JuliaPackages/Piccolo.jl/examples/JuliaCon23/two_qubit.ipynb:1"
     ]
    }
   ],
   "source": [
    "plot(prob.trajectory, [:Ũ⃗, :a]; ignored_labels=[:Ũ⃗])"
   ]
  },
  {
   "cell_type": "markdown",
   "metadata": {},
   "source": [
    "## Minimum Time CNOT\n",
    "\n",
    "Now let's see how fast we can make this pulse, by setting up and solving a minimum time problem, using the solution we just found.\n",
    "\n",
    "We will add an objective term to the problem that penalizes the total time, as well as constraint on the final state of the form\n",
    "\n",
    "$$\n",
    "\\mathcal{F}(U(T)) \\geq \\mathcal{F}_{\\text{target}}.\n",
    "$$\n",
    "\n",
    "This enforce that the final fidelity does not decrease below the threshold $\\mathcal{F}_{\\text{target}}$, while also allowing the phase to shift."
   ]
  },
  {
   "cell_type": "code",
   "execution_count": 14,
   "metadata": {},
   "outputs": [
    {
     "ename": "UndefVarError",
     "evalue": "UndefVarError: `UnitaryMinimumTimeProblem` not defined",
     "output_type": "error",
     "traceback": [
      "UndefVarError: `UnitaryMinimumTimeProblem` not defined\n",
      "\n",
      "Stacktrace:\n",
      " [1] top-level scope\n",
      "   @ ~/work/RExLab/JuliaPackages/Piccolo.jl/examples/JuliaCon23/two_qubit.ipynb:8"
     ]
    }
   ],
   "source": [
    "# final fidelity constraint\n",
    "min_fidelity = 0.9999\n",
    "\n",
    "# minimum time objective weight\n",
    "D = 1000.0\n",
    "\n",
    "# define the problem\n",
    "mintime_prob = UnitaryMinimumTimeProblem(prob; D=D, final_fidelity=min_fidelity);"
   ]
  },
  {
   "cell_type": "code",
   "execution_count": 15,
   "metadata": {},
   "outputs": [
    {
     "ename": "UndefVarError",
     "evalue": "UndefVarError: `QuantumCollocation` not defined",
     "output_type": "error",
     "traceback": [
      "UndefVarError: `QuantumCollocation` not defined\n",
      "\n",
      "Stacktrace:\n",
      " [1] top-level scope\n",
      "   @ ~/work/RExLab/JuliaPackages/Piccolo.jl/examples/JuliaCon23/two_qubit.ipynb:2"
     ]
    }
   ],
   "source": [
    "# solving the problem\n",
    "QuantumCollocation.solve!(mintime_prob; max_iter=max_iter)"
   ]
  },
  {
   "cell_type": "code",
   "execution_count": 16,
   "metadata": {},
   "outputs": [
    {
     "ename": "UndefVarError",
     "evalue": "UndefVarError: `mintime_prob` not defined",
     "output_type": "error",
     "traceback": [
      "UndefVarError: `mintime_prob` not defined\n",
      "\n",
      "Stacktrace:\n",
      " [1] top-level scope\n",
      "   @ ~/work/RExLab/JuliaPackages/Piccolo.jl/examples/JuliaCon23/two_qubit.ipynb:1"
     ]
    }
   ],
   "source": [
    "mintime_final_fidelity = unitary_fidelity(mintime_prob.trajectory, system)\n",
    "println(\"Fidelity: $mintime_final_fidelity\")"
   ]
  },
  {
   "cell_type": "code",
   "execution_count": 17,
   "metadata": {},
   "outputs": [
    {
     "ename": "UndefVarError",
     "evalue": "UndefVarError: `plot` not defined",
     "output_type": "error",
     "traceback": [
      "UndefVarError: `plot` not defined\n",
      "\n",
      "Stacktrace:\n",
      " [1] top-level scope\n",
      "   @ ~/work/RExLab/JuliaPackages/Piccolo.jl/examples/JuliaCon23/two_qubit.ipynb:1"
     ]
    }
   ],
   "source": [
    "plot(mintime_prob.trajectory, [:Ũ⃗, :a]; ignored_labels=[:Ũ⃗])"
   ]
  },
  {
   "cell_type": "code",
   "execution_count": 18,
   "metadata": {},
   "outputs": [
    {
     "ename": "UndefVarError",
     "evalue": "UndefVarError: `prob` not defined",
     "output_type": "error",
     "traceback": [
      "UndefVarError: `prob` not defined\n",
      "\n",
      "Stacktrace:\n",
      " [1] top-level scope\n",
      "   @ ~/work/RExLab/JuliaPackages/Piccolo.jl/examples/JuliaCon23/two_qubit.ipynb:1"
     ]
    }
   ],
   "source": [
    "original_duration = times(prob.trajectory)[end]\n",
    "mintime_duration = times(mintime_prob.trajectory)[end]\n",
    "println(\"Original Duration: $original_duration ns\")\n",
    "println(\"Minimum Duration:  $mintime_duration ns\")"
   ]
  },
  {
   "cell_type": "markdown",
   "metadata": {},
   "source": [
    "## Model Mismatch and Iterative Learning Control\n",
    "\n",
    "Now let's imagine that our goal is to test this pulse on an experimental system where we anticipate some hamiltonian errors. First we will define some states on this system using the `cavity_state` function to create states $\\ket{g}$, $\\ket{e}$ for individual qubits, and $\\ket{gg}$, $\\ket{ge}$, $\\ket{eg}$, and $\\ket{ee}$ on the combined two qubit system."
   ]
  },
  {
   "cell_type": "code",
   "execution_count": 19,
   "metadata": {},
   "outputs": [
    {
     "ename": "UndefVarError",
     "evalue": "UndefVarError: `cavity_state` not defined",
     "output_type": "error",
     "traceback": [
      "UndefVarError: `cavity_state` not defined\n",
      "\n",
      "Stacktrace:\n",
      " [1] top-level scope\n",
      "   @ ~/work/RExLab/JuliaPackages/Piccolo.jl/examples/JuliaCon23/two_qubit.ipynb:4"
     ]
    }
   ],
   "source": [
    "experimental_levels = 2\n",
    "\n",
    "# define quantum ground state |g⟩\n",
    "g = cavity_state(0, experimental_levels)\n",
    "\n",
    "# define quantum excited state |e⟩\n",
    "e = cavity_state(1, experimental_levels)\n",
    "\n",
    "# define quantum states |gg⟩, |ge⟩, |eg⟩, |ee⟩\n",
    "gg = g ⊗ g\n",
    "ge = g ⊗ e\n",
    "eg = e ⊗ g\n",
    "ee = e ⊗ e;"
   ]
  },
  {
   "cell_type": "markdown",
   "metadata": {},
   "source": [
    "Here we set up the experiments for the system using the `QuantumSimulationExperiment` constructor."
   ]
  },
  {
   "cell_type": "code",
   "execution_count": 20,
   "metadata": {},
   "outputs": [
    {
     "ename": "UndefVarError",
     "evalue": "UndefVarError: `gg` not defined",
     "output_type": "error",
     "traceback": [
      "UndefVarError: `gg` not defined\n",
      "\n",
      "Stacktrace:\n",
      " [1] top-level scope\n",
      "   @ ~/work/RExLab/JuliaPackages/Piccolo.jl/examples/JuliaCon23/two_qubit.ipynb:7"
     ]
    }
   ],
   "source": [
    "# unitary fidelity measurement function\n",
    "unitary_fidelity_measurement = Ũ⃗ -> begin\n",
    "    U_experiment = iso_vec_to_operator(Ũ⃗)\n",
    "    return [unitary_fidelity(U_experiment, U_goal)]\n",
    "end\n",
    "\n",
    "experimental_initial_states = [\n",
    "    gg,\n",
    "    ge,\n",
    "    eg,\n",
    "    ee,\n",
    "    # (eg + ge) / √2,\n",
    "    # (gg + ee) / √2,\n",
    "    # (ge - im * eg) / √2,\n",
    "    # (ge - ee) / √2,\n",
    "]\n",
    "\n",
    "measurement = Ũ⃗ -> begin\n",
    "    U_experiment = iso_vec_to_operator(Ũ⃗)\n",
    "    return [fidelity(U_experiment * ψ, U_goal * ψ) for ψ ∈ experimental_initial_states]\n",
    "end\n",
    "\n",
    "X_error = 0.002 \n",
    "Y_error = -0.007\n",
    "Z_error = 0.006 \n",
    "\n",
    "\n",
    "\n",
    "H_error = -1.0im * (\n",
    "    X_error * (GATES[:X] ⊗ GATES[:I] + GATES[:I] ⊗ GATES[:X]) +\n",
    "    Y_error * (GATES[:Y] ⊗ GATES[:I] + GATES[:I] ⊗ GATES[:Y]) +\n",
    "    Z_error * (GATES[:Z] ⊗ GATES[:I] + GATES[:I] ⊗ GATES[:Z])\n",
    ") \n",
    "G_error = iso(H_error)\n",
    "\n",
    "\n",
    "# define the measurement times\n",
    "τs = [prob.trajectory.T]\n",
    "\n",
    "# define initial unitary\n",
    "U_init = I(4) \n",
    "\n",
    "# define the simulation experiment\n",
    "experiment = QuantumSimulationExperiment(\n",
    "    system,\n",
    "    operator_to_iso_vec(U_init),\n",
    "    measurement,\n",
    "    τs;\n",
    "    unitary=true,\n",
    "    G_error_term=G_error\n",
    ");\n",
    "\n",
    "# define the simulation experiment\n",
    "unitary_fidelity_experiment = QuantumSimulationExperiment(\n",
    "    system,\n",
    "    operator_to_iso_vec(U_init),\n",
    "    unitary_fidelity_measurement,\n",
    "    τs;\n",
    "    unitary=true,\n",
    "    G_error_term=G_error\n",
    ");\n",
    "\n"
   ]
  },
  {
   "cell_type": "markdown",
   "metadata": {},
   "source": [
    "Here we define the reference trajectory and measure the unitary fidelity on the target system"
   ]
  },
  {
   "cell_type": "code",
   "execution_count": 21,
   "metadata": {},
   "outputs": [
    {
     "ename": "UndefVarError",
     "evalue": "UndefVarError: `mintime_prob` not defined",
     "output_type": "error",
     "traceback": [
      "UndefVarError: `mintime_prob` not defined\n",
      "\n",
      "Stacktrace:\n",
      " [1] top-level scope\n",
      "   @ ~/work/RExLab/JuliaPackages/Piccolo.jl/examples/JuliaCon23/two_qubit.ipynb:3"
     ]
    }
   ],
   "source": [
    "# select goal trajectory\n",
    "# goal_traj = prob.trajectory\n",
    "goal_traj = mintime_prob.trajectory\n",
    "\n",
    "# calculate experimental fidelity\n",
    "experiment_fidelity = unitary_fidelity_experiment(goal_traj.a, goal_traj.Δt).ys[end][end]\n",
    "println(\"experimental fidelity = \", experiment_fidelity)"
   ]
  },
  {
   "cell_type": "markdown",
   "metadata": {},
   "source": [
    "Below we define the objective and optimizer -- backtracking line search -- for the ILC problem."
   ]
  },
  {
   "cell_type": "code",
   "execution_count": 22,
   "metadata": {},
   "outputs": [
    {
     "data": {
      "text/plain": [
       "0.001953125"
      ]
     },
     "metadata": {},
     "output_type": "display_data"
    }
   ],
   "source": [
    "# initial step size\n",
    "α = 0.5^9\n"
   ]
  },
  {
   "cell_type": "markdown",
   "metadata": {},
   "source": [
    "Here we define and solve the ILC problem using the `ILCProblem` constructor and `solve!` method."
   ]
  },
  {
   "cell_type": "code",
   "execution_count": 23,
   "metadata": {},
   "outputs": [
    {
     "ename": "UndefVarError",
     "evalue": "UndefVarError: `ILCProblem` not defined",
     "output_type": "error",
     "traceback": [
      "UndefVarError: `ILCProblem` not defined\n",
      "\n",
      "Stacktrace:\n",
      " [1] top-level scope\n",
      "   @ ~/work/RExLab/JuliaPackages/Piccolo.jl/examples/JuliaCon23/two_qubit.ipynb:3"
     ]
    }
   ],
   "source": [
    "ILC_max_iter = 100\n",
    "\n",
    "ILC_prob = ILCProblem(prob, experiment; \n",
    "    α=α, \n",
    "    max_iter=ILC_max_iter,\n",
    "    Qf=400.0,\n",
    "    OSQP_tol=1e-2,\n",
    ")\n",
    "\n",
    "solve!(ILC_prob; manifold_projection=true);"
   ]
  },
  {
   "cell_type": "code",
   "execution_count": 24,
   "metadata": {},
   "outputs": [
    {
     "ename": "UndefVarError",
     "evalue": "UndefVarError: `save_animation` not defined",
     "output_type": "error",
     "traceback": [
      "UndefVarError: `save_animation` not defined\n",
      "\n",
      "Stacktrace:\n",
      " [1] top-level scope\n",
      "   @ ~/work/RExLab/JuliaPackages/Piccolo.jl/examples/JuliaCon23/two_qubit.ipynb:2"
     ]
    }
   ],
   "source": [
    "animation_path = \"two_qubit.gif\"\n",
    "save_animation(ILC_prob, animation_path; plot_states=false, fps=5);"
   ]
  },
  {
   "cell_type": "code",
   "execution_count": 25,
   "metadata": {},
   "outputs": [
    {
     "ename": "UndefVarError",
     "evalue": "UndefVarError: `ILC_prob` not defined",
     "output_type": "error",
     "traceback": [
      "UndefVarError: `ILC_prob` not defined\n",
      "\n",
      "Stacktrace:\n",
      " [1] top-level scope\n",
      "   @ ~/work/RExLab/JuliaPackages/Piccolo.jl/examples/JuliaCon23/two_qubit.ipynb:1"
     ]
    }
   ],
   "source": [
    "final_ILC_fidelity = unitary_fidelity_experiment(ILC_prob.Zs[end].a, ILC_prob.Zs[end].Δt).ys[end][end]\n",
    "initial_ILC_fidelity = unitary_fidelity_experiment(ILC_prob.Zs[1].a, ILC_prob.Zs[1].Δt).ys[end][end]\n",
    "println(\"initial ILC fidelity: $initial_ILC_fidelity\")\n",
    "println(\"final ILC fidelity:   $final_ILC_fidelity\")"
   ]
  },
  {
   "cell_type": "code",
   "execution_count": 26,
   "metadata": {},
   "outputs": [],
   "source": []
  },
  {
   "cell_type": "code",
   "execution_count": 27,
   "metadata": {},
   "outputs": [],
   "source": []
  },
  {
   "cell_type": "code",
   "execution_count": 28,
   "metadata": {},
   "outputs": [],
   "source": []
  }
 ],
 "metadata": {
  "kernelspec": {
   "display_name": "Julia 1.8.5",
   "language": "julia",
   "name": "julia-1.8"
  },
  "language_info": {
   "file_extension": ".jl",
   "mimetype": "application/julia",
   "name": "julia",
   "version": "1.8.5"
  },
  "orig_nbformat": 4
 },
 "nbformat": 4,
 "nbformat_minor": 2
}
