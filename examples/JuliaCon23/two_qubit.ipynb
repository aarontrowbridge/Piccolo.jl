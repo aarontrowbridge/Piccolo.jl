{
 "cells": [
  {
   "cell_type": "markdown",
   "metadata": {},
   "source": [
    "# Two Qubit CNOT Gate with Piccolo.jl"
   ]
  },
  {
   "cell_type": "code",
   "execution_count": 1,
   "metadata": {},
   "outputs": [],
   "source": [
    "using Revise\n",
    "using CairoMakie\n",
    "using LinearAlgebra\n",
    "using Piccolo"
   ]
  },
  {
   "cell_type": "markdown",
   "metadata": {},
   "source": [
    "## System Hamiltonian\n",
    "\n",
    "The Hamiltonian for this two qubit system example is given by\n",
    "\n",
    "$$\n",
    "H(u(t)) = g \\hat a^\\dagger \\hat a \\hat b^\\dagger \\hat b + a_1(t) (\\hat a + \\hat a^\\dagger) + i a_2(t) (\\hat a - \\hat a^\\dagger) + a_3(t) (\\hat b + \\hat b^\\dagger) + i a_4(t)(\\hat b - \\hat b^\\dagger) \n",
    "$$\n",
    "\n",
    "where $\\hat a$ and $\\hat b$ are the annihilation operators for the first and second qubit respectively, $g$ is the coupling strength, and $u_i(t)$ are the control functions.\n"
   ]
  },
  {
   "cell_type": "code",
   "execution_count": 33,
   "metadata": {},
   "outputs": [],
   "source": [
    "function TwoQubitSystem(levels::Int)\n",
    "\n",
    "    g_coupling = 0.1 # GHz (linear units)\n",
    "\n",
    "    # annihilation operator for qubit 1 \n",
    "    â = QuantumCollocation.lift(annihilate(levels), 1, 2)\n",
    "\n",
    "    # annihilation operator for qubit 2\n",
    "    b̂ = QuantumCollocation.lift(annihilate(levels), 2, 2);\n",
    "\n",
    "    # drift Hamiltonian\n",
    "    H_drift = 2π * g_coupling * â' * â * b̂' * b̂\n",
    "\n",
    "    # drive Hamiltonians\n",
    "    H_drives = [\n",
    "        2π * (â + â'),\n",
    "        2π * 1.0im * (â - â'),\n",
    "        2π * (b̂ + b̂'),\n",
    "        2π * 1.0im * (b̂ - b̂') \n",
    "    ]\n",
    "\n",
    "    return QuantumSystem(H_drift, H_drives);\n",
    "end;"
   ]
  },
  {
   "cell_type": "code",
   "execution_count": 34,
   "metadata": {},
   "outputs": [],
   "source": [
    "levels_per_qubit = 2\n",
    "system = TwoQubitSystem(levels_per_qubit);"
   ]
  },
  {
   "cell_type": "markdown",
   "metadata": {},
   "source": [
    "## CNOT Unitary Gate\n",
    "\n",
    "The goal gate that we will be optimizing for is the CNOT gate defined as\n",
    "\n",
    "$$\n",
    "U_{CNOT} = \\begin{pmatrix}\n",
    "1 & 0 & 0 & 0 \\\\\n",
    "0 & 1 & 0 & 0 \\\\\n",
    "0 & 0 & 0 & 1 \\\\\n",
    "0 & 0 & 1 & 0\n",
    "\\end{pmatrix}\n",
    "$$\n"
   ]
  },
  {
   "cell_type": "code",
   "execution_count": 35,
   "metadata": {},
   "outputs": [],
   "source": [
    "U_goal = [\n",
    "    1 0 0 0;\n",
    "    0 1 0 0;\n",
    "    0 0 0 1;\n",
    "    0 0 1 0\n",
    "]; "
   ]
  },
  {
   "cell_type": "markdown",
   "metadata": {},
   "source": [
    "## Time Discretization Parameters\n",
    "\n",
    "Here we will define the temporal discretization parameters for the control functions. We will use a total time of $T = 15$ and a time step of $\\Delta t = 0.1$."
   ]
  },
  {
   "cell_type": "code",
   "execution_count": 36,
   "metadata": {},
   "outputs": [],
   "source": [
    "T = 15.0 # ns\n",
    "N = 100\n",
    "Δt = T / N;"
   ]
  },
  {
   "cell_type": "markdown",
   "metadata": {},
   "source": [
    "## Pulse Constraints\n",
    "\n",
    "Here we define bounds on the control as well as a constraint on the second derivative of the control that enforces smoothness of the pulse."
   ]
  },
  {
   "cell_type": "code",
   "execution_count": 37,
   "metadata": {},
   "outputs": [],
   "source": [
    "a_bound = 0.0175 # GHz\n",
    "dda_bound = 0.2; # bound on second derivative of control, to ensure smoothness"
   ]
  },
  {
   "cell_type": "markdown",
   "metadata": {},
   "source": [
    "## Defining The Problem\n",
    "\n",
    "Here we define the problem using the `UnitarySmoothPulseProblem` which handles setting up a smoothness constrained pulse optimization problem for a unitary gate."
   ]
  },
  {
   "cell_type": "code",
   "execution_count": 38,
   "metadata": {},
   "outputs": [
    {
     "name": "stdout",
     "output_type": "stream",
     "text": [
      "applying constraint: initial value of Ũ⃗\n",
      "applying constraint: "
     ]
    },
    {
     "name": "stdout",
     "output_type": "stream",
     "text": [
      "initial value of a\n",
      "applying constraint: final value of a\n",
      "applying constraint: bounds on a\n"
     ]
    },
    {
     "name": "stdout",
     "output_type": "stream",
     "text": [
      "applying constraint: bounds on dda\n",
      "applying constraint: bounds on Δt\n",
      "applying constraint: time step all equal constraint\n"
     ]
    },
    {
     "data": {
      "text/plain": [
       "QuantumControlProblem(Ipopt.Optimizer, MathOptInterface.VariableIndex[MOI.VariableIndex(1) MOI.VariableIndex(46) … MOI.VariableIndex(4411) MOI.VariableIndex(4456); MOI.VariableIndex(2) MOI.VariableIndex(47) … MOI.VariableIndex(4412) MOI.VariableIndex(4457); … ; MOI.VariableIndex(44) MOI.VariableIndex(89) … MOI.VariableIndex(4454) MOI.VariableIndex(4499); MOI.VariableIndex(45) MOI.VariableIndex(90) … MOI.VariableIndex(4455) MOI.VariableIndex(4500)], QuantumSystem{Float64}([0.0 0.0 0.0 0.0; 0.0 0.0 0.0 0.0; 0.0 0.0 0.0 0.0; 0.0 0.0 0.0 0.6283185307179586], [0.0 0.0 0.0 0.0; 0.0 0.0 0.0 0.0; 0.0 0.0 0.0 0.0; 0.0 0.0 0.0 0.0], [[0.0 0.0 6.283185307179586 0.0; 0.0 0.0 0.0 6.283185307179586; 6.283185307179586 0.0 0.0 0.0; 0.0 6.283185307179586 0.0 0.0], [0.0 0.0 0.0 0.0; 0.0 0.0 0.0 0.0; -0.0 0.0 0.0 0.0; 0.0 -0.0 0.0 0.0], [0.0 6.283185307179586 0.0 0.0; 6.283185307179586 0.0 0.0 0.0; 0.0 0.0 0.0 6.283185307179586; 0.0 0.0 6.283185307179586 0.0], [0.0 0.0 0.0 0.0; -0.0 0.0 0.0 0.0; 0.0 0.0 0.0 0.0; 0.0 0.0 -0.0 0.0]], [[0.0 0.0 0.0 0.0; 0.0 0.0 0.0 0.0; 0.0 0.0 0.0 0.0; 0.0 0.0 0.0 0.0], [0.0 0.0 6.283185307179586 0.0; 0.0 0.0 0.0 6.283185307179586; -6.283185307179586 0.0 0.0 0.0; 0.0 -6.283185307179586 0.0 0.0], [0.0 0.0 0.0 0.0; 0.0 0.0 0.0 0.0; 0.0 0.0 0.0 0.0; 0.0 0.0 0.0 0.0], [0.0 6.283185307179586 0.0 0.0; -6.283185307179586 0.0 0.0 0.0; 0.0 0.0 0.0 6.283185307179586; 0.0 0.0 -6.283185307179586 0.0]], [0.0 0.0 … 0.0 0.0; 0.0 0.0 … 0.0 0.0; … ; 0.0 0.0 … 0.0 0.0; 0.0 0.0 … 0.0 0.0], [[0.0 0.0 … 6.283185307179586 0.0; 0.0 0.0 … 0.0 6.283185307179586; … ; -6.283185307179586 0.0 … 0.0 0.0; 0.0 -6.283185307179586 … 0.0 0.0], [0.0 0.0 … 0.0 0.0; 0.0 0.0 … 0.0 0.0; … ; 0.0 0.0 … 0.0 0.0; 0.0 0.0 … 0.0 0.0], [0.0 0.0 … 0.0 0.0; 0.0 0.0 … 0.0 0.0; … ; 0.0 0.0 … 0.0 0.0; 0.0 0.0 … 0.0 0.0], [0.0 6.283185307179586 … 0.0 0.0; -6.283185307179586 0.0 … 0.0 0.0; … ; 0.0 0.0 … 0.0 6.283185307179586; 0.0 0.0 … -6.283185307179586 0.0]], Dict{Symbol, Any}()), NamedTrajectory{Float64}([1.0 1.0 … 0.9999999999999999 0.9999999999999999; 0.0 0.0 … 0.0 0.0; … ; 0.010516307712278015 0.0019896885300343258 … -0.005440229121610544 -0.008278155388382526; 0.15 0.15 … 0.15 0.15], [1.0, 0.0, 0.0, 0.0, 0.0, 1.0, 0.0, 0.0, 0.0, 0.0  …  0.0, 0.006720359036793552, 0.013883654354313575, -0.007861869983626448, -0.015277906299094686, 0.018412868051211635, -0.006755339868198641, -0.0044410047431068375, -0.008278155388382526, 0.15], 100, :Δt, 45, (Ũ⃗ = 32, a = 4, da = 4, dda = 4, Δt = 1, states = 40, controls = 5), (a = ([-0.0175, -0.0175, -0.0175, -0.0175], [0.0175, 0.0175, 0.0175, 0.0175]), dda = ([-0.2, -0.2, -0.2, -0.2], [0.2, 0.2, 0.2, 0.2]), Δt = ([0.075], [0.22499999999999998])), (Ũ⃗ = [1.0, 0.0, 0.0, 0.0, 0.0, 1.0, 0.0, 0.0, 0.0, 0.0  …  0.0, 0.0, 0.0, 0.0, 0.0, 0.0, 0.0, 0.0, 0.0, 0.0], a = [0.0, 0.0, 0.0, 0.0]), (a = [0.0, 0.0, 0.0, 0.0],), (Ũ⃗ = [1.0, 0.0, 0.0, 0.0, 0.0, 1.0, 0.0, 0.0, 0.0, 0.0  …  0.0, 0.0, 0.0, 0.0, 0.0, 0.0, 0.0, 0.0, 0.0, 0.0],), (Ũ⃗ = 1:32, a = 33:36, da = 37:40, dda = 41:44, Δt = 45:45, states = [1, 2, 3, 4, 5, 6, 7, 8, 9, 10  …  31, 32, 33, 34, 35, 36, 37, 38, 39, 40], controls = [41, 42, 43, 44, 45]), (:Ũ⃗, :a, :da, :dda, :Δt), (:Ũ⃗, :a, :da), (:dda, :Δt)), AbstractIntegrator[UnitaryPadeIntegrator{Float64}(sparse([1, 2, 3, 4, 5, 6, 7, 8], [1, 2, 3, 4, 5, 6, 7, 8], [1.0, 1.0, 1.0, 1.0, 1.0, 1.0, 1.0, 1.0], 8, 8), sparse([5, 6, 7, 8, 1, 2, 3, 4], [1, 2, 3, 4, 5, 6, 7, 8], [1.0, 1.0, 1.0, 1.0, -1.0, -1.0, -1.0, -1.0], 8, 8), nothing, nothing, [0.0 0.0 0.0 0.0; 0.0 0.0 0.0 0.0; 0.0 0.0 0.0 0.0; 0.0 0.0 0.0 0.6283185307179586], [0.0 0.0 0.0 0.0; 0.0 0.0 0.0 0.0; 0.0 0.0 0.0 0.0; 0.0 0.0 0.0 0.0], [[0.0 0.0 6.283185307179586 0.0; 0.0 0.0 0.0 6.283185307179586; 6.283185307179586 0.0 0.0 0.0; 0.0 6.283185307179586 0.0 0.0], [0.0 0.0 0.0 0.0; 0.0 0.0 0.0 0.0; -0.0 0.0 0.0 0.0; 0.0 -0.0 0.0 0.0], [0.0 6.283185307179586 0.0 0.0; 6.283185307179586 0.0 0.0 0.0; 0.0 0.0 0.0 6.283185307179586; 0.0 0.0 6.283185307179586 0.0], [0.0 0.0 0.0 0.0; -0.0 0.0 0.0 0.0; 0.0 0.0 0.0 0.0; 0.0 0.0 -0.0 0.0]], [[0.0 0.0 0.0 0.0; 0.0 0.0 0.0 0.0; 0.0 0.0 0.0 0.0; 0.0 0.0 0.0 0.0], [0.0 0.0 6.283185307179586 0.0; 0.0 0.0 0.0 6.283185307179586; -6.283185307179586 0.0 0.0 0.0; 0.0 -6.283185307179586 0.0 0.0], [0.0 0.0 0.0 0.0; 0.0 0.0 0.0 0.0; 0.0 0.0 0.0 0.0; 0.0 0.0 0.0 0.0], [0.0 6.283185307179586 0.0 0.0; -6.283185307179586 0.0 0.0 0.0; 0.0 0.0 0.0 6.283185307179586; 0.0 0.0 -6.283185307179586 0.0]], [0.0 0.0 0.0 0.0; 0.0 0.0 0.0 0.0; 0.0 0.0 0.0 0.0; 0.0 0.0 0.0 0.0], [0.0 0.0 0.0 0.0; 0.0 0.0 0.0 0.0; 0.0 0.0 0.0 0.0; 0.0 0.0 0.0 0.3947841760435743], [0.0 0.0 0.0 0.0; 0.0 0.0 0.0 0.0; 0.0 0.0 0.0 0.0; 0.0 0.0 0.0 0.0], [[78.95683520871486 0.0 0.0 0.0; 0.0 78.95683520871486 0.0 0.0; 0.0 0.0 78.95683520871486 0.0; 0.0 0.0 0.0 78.95683520871486] [0.0 0.0 0.0 0.0; 0.0 0.0 0.0 0.0; 0.0 0.0 0.0 0.0; 0.0 0.0 0.0 0.0] [0.0 0.0 0.0 78.95683520871486; 0.0 0.0 78.95683520871486 0.0; 0.0 78.95683520871486 0.0 0.0; 78.95683520871486 0.0 0.0 0.0] [0.0 0.0 0.0 0.0; 0.0 0.0 0.0 0.0; 0.0 0.0 0.0 0.0; 0.0 0.0 0.0 0.0]; [0.0 0.0 0.0 0.0; 0.0 0.0 0.0 0.0; 0.0 0.0 0.0 0.0; 0.0 0.0 0.0 0.0] [0.0 0.0 0.0 0.0; 0.0 0.0 0.0 0.0; 0.0 0.0 0.0 0.0; 0.0 0.0 0.0 0.0] [0.0 0.0 0.0 0.0; 0.0 0.0 0.0 0.0; 0.0 0.0 0.0 0.0; 0.0 0.0 0.0 0.0] [0.0 0.0 0.0 0.0; 0.0 0.0 0.0 0.0; 0.0 0.0 0.0 0.0; 0.0 0.0 0.0 0.0]; [0.0 0.0 0.0 78.95683520871486; 0.0 0.0 78.95683520871486 0.0; 0.0 78.95683520871486 0.0 0.0; 78.95683520871486 0.0 0.0 0.0] [0.0 0.0 0.0 0.0; 0.0 0.0 0.0 0.0; 0.0 0.0 0.0 0.0; 0.0 0.0 0.0 0.0] [78.95683520871486 0.0 0.0 0.0; 0.0 78.95683520871486 0.0 0.0; 0.0 0.0 78.95683520871486 0.0; 0.0 0.0 0.0 78.95683520871486] [0.0 0.0 0.0 0.0; 0.0 0.0 0.0 0.0; 0.0 0.0 0.0 0.0; 0.0 0.0 0.0 0.0]; [0.0 0.0 0.0 0.0; 0.0 0.0 0.0 0.0; 0.0 0.0 0.0 0.0; 0.0 0.0 0.0 0.0] [0.0 0.0 0.0 0.0; 0.0 0.0 0.0 0.0; 0.0 0.0 0.0 0.0; 0.0 0.0 0.0 0.0] [0.0 0.0 0.0 0.0; 0.0 0.0 0.0 0.0; 0.0 0.0 0.0 0.0; 0.0 0.0 0.0 0.0] [0.0 0.0 0.0 0.0; 0.0 0.0 0.0 0.0; 0.0 0.0 0.0 0.0; 0.0 0.0 0.0 0.0]], [[0.0 0.0 0.0 0.0; 0.0 0.0 0.0 0.0; 0.0 0.0 0.0 0.0; 0.0 0.0 0.0 0.0] [0.0 0.0 0.0 0.0; 0.0 0.0 0.0 0.0; 0.0 0.0 0.0 0.0; 0.0 0.0 0.0 0.0] [0.0 0.0 0.0 0.0; 0.0 0.0 0.0 0.0; 0.0 0.0 0.0 0.0; 0.0 0.0 0.0 0.0] [0.0 0.0 0.0 0.0; 0.0 0.0 0.0 0.0; 0.0 0.0 0.0 0.0; 0.0 0.0 0.0 0.0]; [0.0 0.0 0.0 0.0; 0.0 0.0 0.0 0.0; 0.0 0.0 0.0 0.0; 0.0 0.0 0.0 0.0] [-78.95683520871486 0.0 0.0 0.0; 0.0 -78.95683520871486 0.0 0.0; 0.0 0.0 -78.95683520871486 0.0; 0.0 0.0 0.0 -78.95683520871486] [0.0 0.0 0.0 0.0; 0.0 0.0 0.0 0.0; 0.0 0.0 0.0 0.0; 0.0 0.0 0.0 0.0] [0.0 0.0 0.0 78.95683520871486; 0.0 0.0 -78.95683520871486 0.0; 0.0 -78.95683520871486 0.0 0.0; 78.95683520871486 0.0 0.0 0.0]; [0.0 0.0 0.0 0.0; 0.0 0.0 0.0 0.0; 0.0 0.0 0.0 0.0; 0.0 0.0 0.0 0.0] [0.0 0.0 0.0 0.0; 0.0 0.0 0.0 0.0; 0.0 0.0 0.0 0.0; 0.0 0.0 0.0 0.0] [0.0 0.0 0.0 0.0; 0.0 0.0 0.0 0.0; 0.0 0.0 0.0 0.0; 0.0 0.0 0.0 0.0] [0.0 0.0 0.0 0.0; 0.0 0.0 0.0 0.0; 0.0 0.0 0.0 0.0; 0.0 0.0 0.0 0.0]; [0.0 0.0 0.0 0.0; 0.0 0.0 0.0 0.0; 0.0 0.0 0.0 0.0; 0.0 0.0 0.0 0.0] [0.0 0.0 0.0 78.95683520871486; 0.0 0.0 -78.95683520871486 0.0; 0.0 -78.95683520871486 0.0 0.0; 78.95683520871486 0.0 0.0 0.0] [0.0 0.0 0.0 0.0; 0.0 0.0 0.0 0.0; 0.0 0.0 0.0 0.0; 0.0 0.0 0.0 0.0] [-78.95683520871486 0.0 0.0 0.0; 0.0 -78.95683520871486 0.0 0.0; 0.0 0.0 -78.95683520871486 0.0; 0.0 0.0 0.0 -78.95683520871486]], [[0.0 0.0 0.0 0.0; 0.0 0.0 0.0 3.947841760435743; 0.0 0.0 0.0 0.0; 0.0 3.947841760435743 0.0 0.0], [0.0 0.0 0.0 0.0; 0.0 0.0 0.0 0.0; 0.0 0.0 0.0 0.0; 0.0 0.0 0.0 0.0], [0.0 0.0 0.0 0.0; 0.0 0.0 0.0 0.0; 0.0 0.0 0.0 3.947841760435743; 0.0 0.0 3.947841760435743 0.0], [0.0 0.0 0.0 0.0; 0.0 0.0 0.0 0.0; 0.0 0.0 0.0 0.0; 0.0 0.0 0.0 0.0]], [[0.0 0.0 0.0 0.0; 0.0 0.0 0.0 0.0; 0.0 0.0 0.0 0.0; 0.0 0.0 0.0 0.0], [0.0 0.0 0.0 0.0; 0.0 0.0 0.0 3.947841760435743; 0.0 0.0 0.0 0.0; 0.0 -3.947841760435743 0.0 0.0], [0.0 0.0 0.0 0.0; 0.0 0.0 0.0 0.0; 0.0 0.0 0.0 0.0; 0.0 0.0 0.0 0.0], [0.0 0.0 0.0 0.0; 0.0 0.0 0.0 0.0; 0.0 0.0 0.0 3.947841760435743; 0.0 0.0 -3.947841760435743 0.0]], [[0.0 0.0 0.0 0.0; 0.0 0.0 0.0 0.0; 0.0 0.0 0.0 0.0; 0.0 0.0 0.0 0.0], [0.0 0.0 0.0 0.0; 0.0 0.0 0.0 0.0; 0.0 0.0 0.0 0.0; 0.0 0.0 0.0 0.0], [0.0 0.0 0.0 0.0; 0.0 0.0 0.0 0.0; 0.0 0.0 0.0 0.0; 0.0 0.0 0.0 0.0], [0.0 0.0 0.0 0.0; 0.0 0.0 0.0 0.0; 0.0 0.0 0.0 0.0; 0.0 0.0 0.0 0.0]], [[0.0 0.0 0.0 0.0; 0.0 0.0 0.0 0.0; 0.0 0.0 0.0 0.0; 0.0 0.0 0.0 0.0], [0.0 0.0 0.0 0.0; 0.0 0.0 0.0 0.0; 0.0 0.0 0.0 0.0; 0.0 0.0 0.0 0.0], [0.0 0.0 0.0 0.0; 0.0 0.0 0.0 0.0; 0.0 0.0 0.0 0.0; 0.0 0.0 0.0 0.0], [0.0 0.0 0.0 0.0; 0.0 0.0 0.0 0.0; 0.0 0.0 0.0 0.0; 0.0 0.0 0.0 0.0]], [[0.0 0.0 0.0 0.0; 0.0 0.0 0.0 0.0; 0.0 0.0 0.0 0.0; 0.0 0.0 0.0 0.0] [0.0 0.0 0.0 0.0; 0.0 0.0 0.0 0.0; 0.0 0.0 0.0 0.0; 0.0 0.0 0.0 0.0] [0.0 0.0 0.0 0.0; 0.0 0.0 0.0 0.0; 0.0 0.0 0.0 0.0; 0.0 0.0 0.0 0.0] [0.0 0.0 0.0 78.95683520871486; 0.0 0.0 -78.95683520871486 0.0; 0.0 78.95683520871486 0.0 0.0; -78.95683520871486 0.0 0.0 0.0]; [0.0 0.0 0.0 0.0; 0.0 0.0 0.0 0.0; 0.0 0.0 0.0 0.0; 0.0 0.0 0.0 0.0] [0.0 0.0 0.0 0.0; 0.0 0.0 0.0 0.0; 0.0 0.0 0.0 0.0; 0.0 0.0 0.0 0.0] [0.0 0.0 0.0 0.0; 0.0 0.0 0.0 0.0; 0.0 0.0 0.0 0.0; 0.0 0.0 0.0 0.0] [0.0 0.0 0.0 0.0; 0.0 0.0 0.0 0.0; 0.0 0.0 0.0 0.0; 0.0 0.0 0.0 0.0]; [0.0 0.0 0.0 0.0; 0.0 0.0 0.0 0.0; 0.0 0.0 0.0 0.0; 0.0 0.0 0.0 0.0] [0.0 0.0 0.0 78.95683520871486; 0.0 0.0 78.95683520871486 0.0; 0.0 -78.95683520871486 0.0 0.0; -78.95683520871486 0.0 0.0 0.0] [0.0 0.0 0.0 0.0; 0.0 0.0 0.0 0.0; 0.0 0.0 0.0 0.0; 0.0 0.0 0.0 0.0] [0.0 0.0 0.0 0.0; 0.0 0.0 0.0 0.0; 0.0 0.0 0.0 0.0; 0.0 0.0 0.0 0.0]; [0.0 0.0 0.0 0.0; 0.0 0.0 0.0 0.0; 0.0 0.0 0.0 0.0; 0.0 0.0 0.0 0.0] [0.0 0.0 0.0 0.0; 0.0 0.0 0.0 0.0; 0.0 0.0 0.0 0.0; 0.0 0.0 0.0 0.0] [0.0 0.0 0.0 0.0; 0.0 0.0 0.0 0.0; 0.0 0.0 0.0 0.0; 0.0 0.0 0.0 0.0] [0.0 0.0 0.0 0.0; 0.0 0.0 0.0 0.0; 0.0 0.0 0.0 0.0; 0.0 0.0 0.0 0.0]], :Ũ⃗, :a, 4, 4, 32, 4, false), DerivativeIntegrator(:a, :da, 4), DerivativeIntegrator(:da, :dda, 4)], Options{Float64}(1.0e-8, 100.0, 100, 1.0e6, 1.0, 1.0e-6, 0.001, 1.0e-6, 15, 1.0e10, 0.01, 0.01, 1.0e-5, 1.0e8, 0.0001, 5, nothing, \"no\", \"no\", \"no\", \"text\", \"no\", \"no\", \"original\", 1, 0.0, \"no\", nothing, \"mumps\", 10, 3), Dict{Symbol, Any}(:eval_hessian => true, :objective_terms => Dict[Dict{Symbol, Any}(:eval_hessian => true, :type => :UnitaryInfidelityObjective, :name => :Ũ⃗, :Q => 100.0, :goal => [1.0, 0.0, 0.0, 0.0, 0.0, 1.0, 0.0, 0.0, 0.0, 0.0  …  0.0, 0.0, 0.0, 0.0, 0.0, 0.0, 0.0, 0.0, 0.0, 0.0]), Dict{Symbol, Any}(:dim => 45, :times => 1:100, :R => [0.01, 0.01, 0.01, 0.01], :eval_hessian => true, :type => :QuadraticRegularizer, :name => :a), Dict{Symbol, Any}(:dim => 45, :times => 1:100, :R => [0.01, 0.01, 0.01, 0.01], :eval_hessian => true, :type => :QuadraticRegularizer, :name => :da), Dict{Symbol, Any}(:dim => 45, :times => 1:100, :R => [0.01, 0.01, 0.01, 0.01], :eval_hessian => true, :type => :QuadraticRegularizer, :name => :dda)], :linear_constraints => LinearConstraint[EqualityConstraint([1], [1, 2, 3, 4, 5, 6, 7, 8, 9, 10  …  23, 24, 25, 26, 27, 28, 29, 30, 31, 32], [1.0, 0.0, 0.0, 0.0, 0.0, 1.0, 0.0, 0.0, 0.0, 0.0  …  0.0, 0.0, 0.0, 0.0, 0.0, 0.0, 0.0, 0.0, 0.0, 0.0], 45, \"initial value of Ũ⃗\"), EqualityConstraint([1], [33, 34, 35, 36], [0.0, 0.0, 0.0, 0.0], 45, \"initial value of a\"), EqualityConstraint([100], [33, 34, 35, 36], [0.0, 0.0, 0.0, 0.0], 45, \"final value of a\"), BoundsConstraint([2, 3, 4, 5, 6, 7, 8, 9, 10, 11  …  90, 91, 92, 93, 94, 95, 96, 97, 98, 99], 33:36, [(-0.0175, 0.0175), (-0.0175, 0.0175), (-0.0175, 0.0175), (-0.0175, 0.0175)], 45, \"bounds on a\"), BoundsConstraint([1, 2, 3, 4, 5, 6, 7, 8, 9, 10  …  91, 92, 93, 94, 95, 96, 97, 98, 99, 100], 41:44, [(-0.2, 0.2), (-0.2, 0.2), (-0.2, 0.2), (-0.2, 0.2)], 45, \"bounds on dda\"), BoundsConstraint([1, 2, 3, 4, 5, 6, 7, 8, 9, 10  …  91, 92, 93, 94, 95, 96, 97, 98, 99, 100], 45:45, [(0.075, 0.22499999999999998)], 45, \"bounds on Δt\"), TimeStepsAllEqualConstraint([45, 90, 135, 180, 225, 270, 315, 360, 405, 450  …  4095, 4140, 4185, 4230, 4275, 4320, 4365, 4410, 4455, 4500], \"time step all equal constraint\")], :options => Options{Float64}(1.0e-8, 100.0, 100, 1.0e6, 1.0, 1.0e-6, 0.001, 1.0e-6, 15, 1.0e10, 0.01, 0.01, 1.0e-5, 1.0e8, 0.0001, 5, nothing, \"no\", \"no\", \"no\", \"text\", \"no\", \"no\", \"original\", 1, 0.0, \"no\", nothing, \"mumps\", 10, 3), :nonlinear_constraints => Any[]))"
      ]
     },
     "metadata": {},
     "output_type": "display_data"
    }
   ],
   "source": [
    "# setting maximum number of iterations \n",
    "max_iter = 100 \n",
    "\n",
    "# TODO: change const violation tolerance\n",
    "prob = UnitarySmoothPulseProblem(\n",
    "    system,\n",
    "    U_goal,\n",
    "    N,\n",
    "    Δt;\n",
    "    a_bound=a_bound,\n",
    "    dda_bound=dda_bound,\n",
    "    max_iter=max_iter,\n",
    ")"
   ]
  },
  {
   "cell_type": "markdown",
   "metadata": {},
   "source": [
    "Here we plot the initial guess for the unitary and controls, which are stored as `Symbol`s, `:Ũ⃗` and `:a`, respectively. Note that the initial guess for the unitary is not random, it is in fact the geodesic path between the identity and the target unitary. This is not required for the optimizer to converge, but it can help speed up convergence."
   ]
  },
  {
   "cell_type": "code",
   "execution_count": null,
   "metadata": {},
   "outputs": [],
   "source": [
    "plot(prob.trajectory, [:Ũ⃗, :a]; ignored_labels=[:Ũ⃗])"
   ]
  },
  {
   "cell_type": "code",
   "execution_count": 40,
   "metadata": {},
   "outputs": [
    {
     "data": {
      "text/plain": [
       "(:Ũ⃗, :a, :da, :dda, :Δt)"
      ]
     },
     "metadata": {},
     "output_type": "display_data"
    }
   ],
   "source": [
    "traj = prob.trajectory\n",
    "traj.names"
   ]
  },
  {
   "cell_type": "code",
   "execution_count": 41,
   "metadata": {},
   "outputs": [
    {
     "data": {
      "text/plain": [
       "4500"
      ]
     },
     "metadata": {},
     "output_type": "display_data"
    }
   ],
   "source": [
    "traj.dim * traj.T"
   ]
  },
  {
   "cell_type": "markdown",
   "metadata": {},
   "source": [
    "Here we call the `solve!` method on the problem, which uses the interior point nonlinear solver IPOPT to optimize over the states and controls of the problem."
   ]
  },
  {
   "cell_type": "code",
   "execution_count": 42,
   "metadata": {},
   "outputs": [
    {
     "name": "stdout",
     "output_type": "stream",
     "text": [
      "\n",
      "******************************************************************************\n",
      "This program contains Ipopt, a library for large-scale nonlinear optimization.\n",
      " Ipopt is released as open source code under the Eclipse Public License (EPL).\n",
      "         For more information visit https://github.com/coin-or/Ipopt\n",
      "******************************************************************************\n",
      "\n",
      "This is Ipopt version 3.14.13, running with linear solver MUMPS 5.6.0.\n",
      "\n",
      "Number of nonzeros in equality constraint Jacobian...:    64774\n",
      "Number of nonzeros in inequality constraint Jacobian.:        0\n",
      "Number of nonzeros in Lagrangian Hessian.............:    34296\n",
      "\n",
      "Total number of variables............................:     4460\n",
      "                     variables with only lower bounds:        0\n",
      "                variables with lower and upper bounds:      892\n",
      "                     variables with only upper bounds:        0\n",
      "Total number of equality constraints.................:     4059\n",
      "Total number of inequality constraints...............:        0\n",
      "        inequality constraints with only lower bounds:        0\n",
      "   inequality constraints with lower and upper bounds:        0\n",
      "        inequality constraints with only upper bounds:        0\n",
      "\n",
      "iter    objective    inf_pr   inf_du lg(mu)  ||d||  lg(rg) alpha_du alpha_pr  ls\n",
      "   0  6.3002556e-04 1.10e-01 2.94e-04  -1.0 0.00e+00    -  0.00e+00 0.00e+00   0\n"
     ]
    },
    {
     "name": "stdout",
     "output_type": "stream",
     "text": [
      "   1  5.5096811e+01 4.16e-02 2.50e+01  -1.7 1.71e+00    -  1.00e+00 1.00e+00h  1\n"
     ]
    },
    {
     "name": "stdout",
     "output_type": "stream",
     "text": [
      "   2  1.4290071e+01 3.96e-02 2.61e+01  -1.7 3.00e+01    -  4.49e-02 4.73e-02f  1\n"
     ]
    },
    {
     "name": "stdout",
     "output_type": "stream",
     "text": [
      "   3  1.2876599e+01 3.60e-02 2.86e+01  -1.7 3.04e+00    -  4.48e-02 1.83e-01f  1\n"
     ]
    },
    {
     "name": "stdout",
     "output_type": "stream",
     "text": [
      "   4  4.3353872e+00 3.64e-02 2.74e+01  -1.7 3.31e+00   0.0 3.75e-02 4.92e-02f  1\n"
     ]
    },
    {
     "name": "stdout",
     "output_type": "stream",
     "text": [
      "   5  4.1028919e+00 3.63e-02 2.73e+01  -1.7 3.28e+00  -0.5 7.65e-02 1.40e-03f  1\n"
     ]
    },
    {
     "name": "stdout",
     "output_type": "stream",
     "text": [
      "   6  3.8070173e-01 3.24e-02 2.59e+01  -1.7 1.38e+00  -0.1 1.03e-01 1.19e-01f  1\n"
     ]
    },
    {
     "name": "stdout",
     "output_type": "stream",
     "text": [
      "   7  1.4499794e+01 3.13e-02 2.51e+01  -1.7 6.98e+00    -  5.00e-02 3.34e-02h  2\n"
     ]
    },
    {
     "name": "stdout",
     "output_type": "stream",
     "text": [
      "   8  7.2388417e+00 2.96e-02 2.36e+01  -1.7 2.16e+00  -0.5 1.39e-01 6.01e-02f  1\n"
     ]
    },
    {
     "name": "stdout",
     "output_type": "stream",
     "text": [
      "   9  2.9304540e+00 2.95e-02 2.74e+01  -1.7 8.42e+00  -1.0 1.07e-01 4.78e-02f  2\n"
     ]
    },
    {
     "name": "stdout",
     "output_type": "stream",
     "text": [
      "iter    objective    inf_pr   inf_du lg(mu)  ||d||  lg(rg) alpha_du alpha_pr  ls\n",
      "  10  7.0269334e+00 2.85e-02 2.32e+01  -1.7 5.72e+00    -  3.67e-02 2.50e-02h  2\n"
     ]
    },
    {
     "name": "stdout",
     "output_type": "stream",
     "text": [
      "  11  1.4188357e+01 2.22e-02 3.30e+01  -1.7 1.72e+00  -0.6 5.19e-01 2.71e-01h  1\n"
     ]
    },
    {
     "name": "stdout",
     "output_type": "stream",
     "text": [
      "  12  3.0886443e-02 1.93e-02 2.84e+01  -1.7 1.69e+00    -  1.12e-01 1.37e-01f  1\n"
     ]
    },
    {
     "name": "stdout",
     "output_type": "stream",
     "text": [
      "  13  2.7439417e+00 1.92e-02 2.68e+01  -1.7 6.63e+00    -  1.96e-02 6.16e-03h  4\n"
     ]
    },
    {
     "name": "stdout",
     "output_type": "stream",
     "text": [
      "  14  6.8004650e+00 1.81e-02 2.99e+01  -1.7 2.64e+00  -1.1 5.09e-02 8.40e-02h  1\n"
     ]
    },
    {
     "name": "stdout",
     "output_type": "stream",
     "text": [
      "  15  1.9789837e+00 1.79e-02 2.96e+01  -1.7 6.42e+00    -  2.43e-03 1.19e-02f  2\n"
     ]
    },
    {
     "name": "stdout",
     "output_type": "stream",
     "text": [
      "  16  7.3183532e-01 1.78e-02 2.40e+01  -1.7 6.75e+00    -  1.27e-02 6.05e-03f  4\n"
     ]
    },
    {
     "name": "stdout",
     "output_type": "stream",
     "text": [
      "  17  1.0001235e+01 1.29e-02 3.62e+01  -1.7 1.12e+00  -0.6 1.47e-01 3.25e-01h  1\n"
     ]
    },
    {
     "name": "stdout",
     "output_type": "stream",
     "text": [
      "  18  6.5771279e+00 1.31e-02 2.18e+01  -1.7 1.74e+00    -  4.09e-02 1.60e-01f  1\n"
     ]
    },
    {
     "name": "stdout",
     "output_type": "stream",
     "text": [
      "  19  2.9114845e+00 1.27e-02 3.28e+01  -1.7 1.86e+00  -1.1 9.59e-02 1.17e-01f  1\n"
     ]
    },
    {
     "name": "stdout",
     "output_type": "stream",
     "text": [
      "iter    objective    inf_pr   inf_du lg(mu)  ||d||  lg(rg) alpha_du alpha_pr  ls\n",
      "  20  2.4104929e-01 1.27e-02 1.98e+01  -1.7 6.46e+00  -1.6 4.93e-03 8.29e-03f  1\n"
     ]
    },
    {
     "name": "stdout",
     "output_type": "stream",
     "text": [
      "  21  3.1997347e+00 1.25e-02 3.30e+01  -1.7 2.90e+00  -1.2 6.10e-03 3.06e-02h  2\n"
     ]
    },
    {
     "name": "stdout",
     "output_type": "stream",
     "text": [
      "  22  4.1211172e-01 1.26e-02 1.98e+01  -1.7 9.06e+00  -1.6 1.00e-02 6.87e-03f  2\n"
     ]
    },
    {
     "name": "stdout",
     "output_type": "stream",
     "text": [
      "  23  7.4533723e-03 1.25e-02 3.29e+01  -1.7 6.71e+00  -1.2 3.16e-02 2.46e-03f  4\n"
     ]
    },
    {
     "name": "stdout",
     "output_type": "stream",
     "text": [
      "  24  3.2016651e-01 1.25e-02 2.04e+01  -1.7 1.68e+01  -1.7 5.42e-03 3.43e-04h  5\n"
     ]
    },
    {
     "name": "stdout",
     "output_type": "stream",
     "text": [
      "  25  2.8309440e+00 8.69e-03 3.91e+01  -1.7 6.47e-01  -0.4 3.32e-01 3.66e-01h  1\n"
     ]
    },
    {
     "name": "stdout",
     "output_type": "stream",
     "text": [
      "  26  1.9588322e+00 8.23e-03 1.34e+01  -1.7 1.21e+00    -  1.38e-01 6.28e-02f  2\n"
     ]
    },
    {
     "name": "stdout",
     "output_type": "stream",
     "text": [
      "  27  2.5809677e+00 6.09e-03 3.95e+01  -1.7 7.16e-01  -0.8 2.72e-01 2.17e-01h  1\n"
     ]
    },
    {
     "name": "stdout",
     "output_type": "stream",
     "text": [
      "  28  4.6924882e+00 6.00e-03 1.56e+01  -1.7 9.42e-01    -  1.27e-01 1.29e-01H  1\n"
     ]
    },
    {
     "name": "stdout",
     "output_type": "stream",
     "text": [
      "  29  5.3377870e-01 6.12e-03 1.45e+01  -1.7 1.60e+00  -1.3 2.69e-02 6.66e-02f  1\n"
     ]
    },
    {
     "name": "stdout",
     "output_type": "stream",
     "text": [
      "iter    objective    inf_pr   inf_du lg(mu)  ||d||  lg(rg) alpha_du alpha_pr  ls\n",
      "  30  3.0446011e+00 5.31e-03 3.84e+01  -1.7 1.19e+00  -0.9 3.17e-02 2.00e-01h  1\n"
     ]
    },
    {
     "name": "stdout",
     "output_type": "stream",
     "text": [
      "  31  7.2814282e+00 5.68e-03 2.20e+01  -1.7 7.21e-01    -  3.10e-01 2.71e-01H  1\n"
     ]
    },
    {
     "name": "stdout",
     "output_type": "stream",
     "text": [
      "  32  2.3519947e+00 4.50e-03 4.02e+01  -1.7 5.38e-01  -0.5 2.76e-01 5.55e-01f  1\n"
     ]
    },
    {
     "name": "stdout",
     "output_type": "stream",
     "text": [
      "  33  1.0918330e+01 3.94e-03 2.63e+01  -1.7 5.75e-01    -  1.32e-01 4.11e-01H  1\n"
     ]
    },
    {
     "name": "stdout",
     "output_type": "stream",
     "text": [
      "  34  4.7340794e+00 2.17e-03 1.14e+01  -1.7 2.00e-01  -0.0 7.30e-01 1.00e+00f  1\n"
     ]
    },
    {
     "name": "stdout",
     "output_type": "stream",
     "text": [
      "  35  1.7017753e+00 1.30e-03 2.58e+00  -1.7 1.58e-01  -0.5 9.13e-01 8.37e-01f  1\n"
     ]
    },
    {
     "name": "stdout",
     "output_type": "stream",
     "text": [
      "  36  1.5661874e+00 1.55e-03 2.78e+00  -1.7 5.94e+00    -  3.39e-02 1.76e-02f  2\n"
     ]
    },
    {
     "name": "stdout",
     "output_type": "stream",
     "text": [
      "  37  4.7426735e-01 8.88e-04 8.82e-01  -1.7 1.28e-01  -1.0 1.00e+00 1.00e+00f  1\n"
     ]
    },
    {
     "name": "stdout",
     "output_type": "stream",
     "text": [
      "  38  1.1145529e+00 2.18e-04 5.38e-02  -1.7 7.03e-02    -  1.00e+00 1.00e+00h  1\n"
     ]
    },
    {
     "name": "stdout",
     "output_type": "stream",
     "text": [
      "  39  3.1410125e-01 3.88e-04 7.36e-01  -2.5 6.90e-02    -  8.14e-01 1.00e+00f  1\n"
     ]
    },
    {
     "name": "stdout",
     "output_type": "stream",
     "text": [
      "iter    objective    inf_pr   inf_du lg(mu)  ||d||  lg(rg) alpha_du alpha_pr  ls\n",
      "  40  2.4027667e-01 8.21e-05 3.25e-02  -2.5 2.93e-02  -0.6 1.00e+00 1.00e+00h  1\n"
     ]
    },
    {
     "name": "stdout",
     "output_type": "stream",
     "text": [
      "  41  1.6257956e-01 5.84e-05 7.87e-03  -2.5 2.07e-02  -1.0 1.00e+00 1.00e+00h  1\n"
     ]
    },
    {
     "name": "stdout",
     "output_type": "stream",
     "text": [
      "  42  3.0110758e-02 6.71e-05 1.70e-01  -3.8 2.61e-02  -0.6 9.20e-01 1.00e+00h  1\n"
     ]
    },
    {
     "name": "stdout",
     "output_type": "stream",
     "text": [
      "  43  1.2860711e-02 1.13e-04 5.00e+01  -3.8 2.97e-02  -1.1 1.00e+00 1.00e+00h  1\n"
     ]
    },
    {
     "name": "stdout",
     "output_type": "stream",
     "text": [
      "  44  3.9290167e-03 1.67e-03 4.12e+01  -3.8 1.14e-01  -1.6 1.83e-01 1.76e-01H  1\n"
     ]
    },
    {
     "name": "stdout",
     "output_type": "stream",
     "text": [
      "  45  7.5311098e-03 1.66e-03 9.06e+00  -3.8 8.44e-01  -1.1 1.31e-02 5.78e-03h  4\n"
     ]
    },
    {
     "name": "stdout",
     "output_type": "stream",
     "text": [
      "  46  9.7373137e-03 1.36e-03 4.27e+01  -3.8 3.23e-01  -0.7 3.44e-02 1.90e-01h  3\n"
     ]
    },
    {
     "name": "stdout",
     "output_type": "stream",
     "text": [
      "  47  2.6273303e-03 1.35e-03 7.78e+00  -3.8 6.31e-01  -1.2 4.03e-02 1.05e-02h  4\n"
     ]
    },
    {
     "name": "stdout",
     "output_type": "stream",
     "text": [
      "  48  6.9855268e-03 1.18e-03 4.32e+01  -3.8 4.65e-02  -0.8 6.71e-01 1.25e-01h  4\n"
     ]
    },
    {
     "name": "stdout",
     "output_type": "stream",
     "text": [
      "  49  4.4562621e-03 1.17e-03 7.32e+00  -3.8 5.44e-01  -1.2 6.39e-02 1.17e-02h  4\n"
     ]
    },
    {
     "name": "stdout",
     "output_type": "stream",
     "text": [
      "iter    objective    inf_pr   inf_du lg(mu)  ||d||  lg(rg) alpha_du alpha_pr  ls\n",
      "  50  8.9775050e-02 1.16e-04 4.99e+01  -3.8 4.49e-02  -0.8 1.00e+00 1.00e+00h  1\n"
     ]
    },
    {
     "name": "stdout",
     "output_type": "stream",
     "text": [
      "  51  1.9308769e-02 1.47e-04 4.99e+01  -3.8 3.64e-02  -1.3 1.00e+00 1.00e+00h  1\n"
     ]
    },
    {
     "name": "stdout",
     "output_type": "stream",
     "text": [
      "  52  1.6514849e-02 1.59e-06 5.91e-01  -3.8 4.09e-03   0.9 1.00e+00 1.00e+00h  1\n"
     ]
    },
    {
     "name": "stdout",
     "output_type": "stream",
     "text": [
      "  53  1.3509284e-02 1.03e-06 1.05e-02  -3.8 3.66e-03   0.5 1.00e+00 1.00e+00h  1\n"
     ]
    },
    {
     "name": "stdout",
     "output_type": "stream",
     "text": [
      "  54  7.9900337e-03 1.73e-06 6.28e-03  -3.8 6.54e-03  -0.0 1.00e+00 1.00e+00h  1\n"
     ]
    },
    {
     "name": "stdout",
     "output_type": "stream",
     "text": [
      "  55  3.6373724e-03 2.70e-06 2.11e-03  -3.8 6.59e-03  -0.5 1.00e+00 1.00e+00h  1\n"
     ]
    },
    {
     "name": "stdout",
     "output_type": "stream",
     "text": [
      "  56  2.7657594e-03 3.58e-06 5.29e-04  -3.8 4.65e-03  -1.0 1.00e+00 1.00e+00h  1\n"
     ]
    },
    {
     "name": "stdout",
     "output_type": "stream",
     "text": [
      "  57  1.8314885e-03 9.95e-06 4.99e+01  -4.0 8.42e-03  -1.4 1.00e+00 1.00e+00h  1\n"
     ]
    },
    {
     "name": "stdout",
     "output_type": "stream",
     "text": [
      "  58  2.2835497e-03 9.15e-06 1.25e+01  -4.0 1.79e-02  -1.9 1.00e+00 2.50e-01h  3\n"
     ]
    },
    {
     "name": "stdout",
     "output_type": "stream",
     "text": [
      "  59  2.0079633e-03 4.47e-07 5.93e-02  -4.0 2.81e-03  -0.6 1.00e+00 1.00e+00h  1\n"
     ]
    },
    {
     "name": "stdout",
     "output_type": "stream",
     "text": [
      "iter    objective    inf_pr   inf_du lg(mu)  ||d||  lg(rg) alpha_du alpha_pr  ls\n",
      "  60  2.0996510e-03 1.38e-06 2.69e-04  -4.0 3.23e-03  -1.1 1.00e+00 1.00e+00h  1\n"
     ]
    },
    {
     "name": "stdout",
     "output_type": "stream",
     "text": [
      "  61  2.0914681e-03 9.25e-06 4.99e+01  -4.0 8.71e-03  -1.6 1.00e+00 1.00e+00h  1\n"
     ]
    },
    {
     "name": "stdout",
     "output_type": "stream",
     "text": [
      "  62  3.5940274e-03 5.74e-05 4.99e+01  -4.0 2.17e-02  -2.0 1.00e+00 1.00e+00h  1\n"
     ]
    },
    {
     "name": "stdout",
     "output_type": "stream",
     "text": [
      "  63  4.0669202e-03 3.86e-07 3.57e-01  -4.0 1.96e-03   1.1 1.00e+00 1.00e+00h  1\n"
     ]
    },
    {
     "name": "stdout",
     "output_type": "stream",
     "text": [
      "  64  3.8981384e-03 3.28e-08 2.46e-03  -4.0 5.77e-04   0.6 1.00e+00 1.00e+00h  1\n"
     ]
    },
    {
     "name": "stdout",
     "output_type": "stream",
     "text": [
      "  65  3.2596464e-03 1.34e-07 1.83e-03  -4.0 1.29e-03   0.2 1.00e+00 1.00e+00h  1\n"
     ]
    },
    {
     "name": "stdout",
     "output_type": "stream",
     "text": [
      "  66  2.5014727e-03 3.66e-07 9.82e-04  -4.0 2.08e-03  -0.3 1.00e+00 1.00e+00h  1\n"
     ]
    },
    {
     "name": "stdout",
     "output_type": "stream",
     "text": [
      "  67  2.0820787e-03 4.35e-07 3.67e-04  -4.0 2.33e-03  -0.8 1.00e+00 1.00e+00h  1\n"
     ]
    },
    {
     "name": "stdout",
     "output_type": "stream",
     "text": [
      "  68  1.6938902e-03 1.53e-06 2.15e-04  -4.0 3.85e-03  -1.3 1.00e+00 1.00e+00h  1\n"
     ]
    },
    {
     "name": "stdout",
     "output_type": "stream",
     "text": [
      "  69  1.7927933e-03 6.03e-06 6.42e-04  -4.0 1.07e-02  -1.8 1.00e+00 1.00e+00H  1\n"
     ]
    },
    {
     "name": "stdout",
     "output_type": "stream",
     "text": [
      "iter    objective    inf_pr   inf_du lg(mu)  ||d||  lg(rg) alpha_du alpha_pr  ls\n",
      "  70  2.1484398e-03 6.86e-06 4.98e+01  -4.0 2.54e-02  -2.2 1.00e+00 2.50e-01h  3\n"
     ]
    },
    {
     "name": "stdout",
     "output_type": "stream",
     "text": [
      "  71  2.1769740e-03 1.00e-04 2.49e+01  -4.0 5.96e-02  -2.7 1.00e+00 5.00e-01h  2\n"
     ]
    },
    {
     "name": "stdout",
     "output_type": "stream",
     "text": [
      "  72  2.2158823e-03 5.17e-07 1.93e-01  -4.0 2.18e-03   0.4 1.00e+00 1.00e+00h  1\n"
     ]
    },
    {
     "name": "stdout",
     "output_type": "stream",
     "text": [
      "  73  2.1910140e-03 1.32e-07 9.71e-04  -4.0 1.09e-03  -0.1 1.00e+00 1.00e+00h  1\n"
     ]
    },
    {
     "name": "stdout",
     "output_type": "stream",
     "text": [
      "  74  2.0097233e-03 8.58e-08 3.48e-04  -4.0 1.18e-03  -0.5 1.00e+00 1.00e+00h  1\n"
     ]
    },
    {
     "name": "stdout",
     "output_type": "stream",
     "text": [
      "  75  1.8362362e-03 2.79e-07 1.73e-04  -4.0 1.77e-03  -1.0 1.00e+00 1.00e+00h  1\n"
     ]
    },
    {
     "name": "stdout",
     "output_type": "stream",
     "text": [
      "  76  1.9125179e-03 1.68e-06 4.98e+01  -4.0 4.03e-03  -1.5 1.00e+00 1.00e+00h  1\n"
     ]
    },
    {
     "name": "stdout",
     "output_type": "stream",
     "text": [
      "  77  3.0092617e-03 4.01e-06 4.98e+01  -4.0 5.65e-03  -2.0 1.00e+00 1.00e+00h  1\n"
     ]
    },
    {
     "name": "stdout",
     "output_type": "stream",
     "text": [
      "  78  3.5538077e-03 1.93e-07 2.51e-01  -4.0 1.39e-03   1.2 1.00e+00 1.00e+00h  1\n"
     ]
    },
    {
     "name": "stdout",
     "output_type": "stream",
     "text": [
      "  79  3.3676580e-03 1.73e-08 2.69e-03  -4.0 5.39e-04   0.7 1.00e+00 1.00e+00h  1\n"
     ]
    },
    {
     "name": "stdout",
     "output_type": "stream",
     "text": [
      "iter    objective    inf_pr   inf_du lg(mu)  ||d||  lg(rg) alpha_du alpha_pr  ls\n",
      "  80  2.9299485e-03 2.23e-10 1.77e-03  -4.0 1.07e-03   0.2 1.00e+00 1.00e+00H  1\n"
     ]
    },
    {
     "name": "stdout",
     "output_type": "stream",
     "text": [
      "  81  2.2961042e-03 2.43e-07 1.00e-03  -4.0 1.81e-03  -0.3 1.00e+00 1.00e+00f  1\n"
     ]
    },
    {
     "name": "stdout",
     "output_type": "stream",
     "text": [
      "  82  1.9243740e-03 2.63e-07 3.81e-04  -4.0 2.07e-03  -0.7 1.00e+00 1.00e+00h  1\n"
     ]
    },
    {
     "name": "stdout",
     "output_type": "stream",
     "text": [
      "  83  1.6831606e-03 5.11e-07 1.55e-04  -4.0 2.53e-03  -1.2 1.00e+00 1.00e+00h  1\n"
     ]
    },
    {
     "name": "stdout",
     "output_type": "stream",
     "text": [
      "  84  1.7919907e-03 9.81e-07 3.52e-04  -4.0 5.36e-03  -1.7 1.00e+00 1.00e+00H  1\n"
     ]
    },
    {
     "name": "stdout",
     "output_type": "stream",
     "text": [
      "  85  1.7295806e-03 1.09e-06 4.97e+01  -4.0 1.25e-02  -2.2 1.00e+00 2.50e-01h  3\n"
     ]
    },
    {
     "name": "stdout",
     "output_type": "stream",
     "text": [
      "  86  2.1138132e-03 6.31e-06 2.49e+01  -4.0 1.46e-02  -2.6 1.00e+00 5.00e-01h  2\n"
     ]
    },
    {
     "name": "stdout",
     "output_type": "stream",
     "text": [
      "  87  2.1171577e-03 2.82e-07 1.55e-01  -4.0 1.77e-03   0.5 1.00e+00 1.00e+00h  1\n"
     ]
    },
    {
     "name": "stdout",
     "output_type": "stream",
     "text": [
      "  88  2.1310587e-03 7.97e-11 8.18e-04  -4.0 7.89e-04   0.0 1.00e+00 1.00e+00H  1\n"
     ]
    },
    {
     "name": "stdout",
     "output_type": "stream",
     "text": [
      "  89  1.9318827e-03 7.08e-08 3.83e-04  -4.0 1.11e-03  -0.5 1.00e+00 1.00e+00h  1\n"
     ]
    },
    {
     "name": "stdout",
     "output_type": "stream",
     "text": [
      "iter    objective    inf_pr   inf_du lg(mu)  ||d||  lg(rg) alpha_du alpha_pr  ls\n",
      "  90  1.8065116e-03 1.18e-07 1.61e-04  -4.0 1.40e-03  -0.9 1.00e+00 1.00e+00h  1\n"
     ]
    },
    {
     "name": "stdout",
     "output_type": "stream",
     "text": [
      "  91  1.5857304e-03 5.76e-07 4.97e+01  -4.0 2.65e-03  -1.4 1.00e+00 1.00e+00h  1\n"
     ]
    },
    {
     "name": "stdout",
     "output_type": "stream",
     "text": [
      "  92  2.1510334e-03 8.17e-07 2.49e+01  -4.0 5.20e-03  -1.9 1.00e+00 5.00e-01h  2\n"
     ]
    },
    {
     "name": "stdout",
     "output_type": "stream",
     "text": [
      "  93  1.9300596e-03 4.79e-07 2.04e-01  -4.0 2.33e-03   0.3 1.00e+00 1.00e+00h  1\n"
     ]
    },
    {
     "name": "stdout",
     "output_type": "stream",
     "text": [
      "  94  1.9731792e-03 1.72e-07 9.40e-04  -4.0 1.29e-03  -0.1 1.00e+00 1.00e+00h  1\n"
     ]
    },
    {
     "name": "stdout",
     "output_type": "stream",
     "text": [
      "  95  1.8944871e-03 3.83e-10 2.79e-04  -4.0 1.15e-03  -0.6 1.00e+00 1.00e+00H  1\n"
     ]
    },
    {
     "name": "stdout",
     "output_type": "stream",
     "text": [
      "  96  1.7557909e-03 1.54e-07 1.23e-04  -4.0 1.53e-03  -1.1 1.00e+00 1.00e+00h  1\n"
     ]
    },
    {
     "name": "stdout",
     "output_type": "stream",
     "text": [
      "  97  1.7970832e-03 1.63e-07 1.34e-04  -4.0 3.28e-03  -1.6 1.00e+00 1.00e+00H  1\n"
     ]
    },
    {
     "name": "stdout",
     "output_type": "stream",
     "text": [
      "  98  1.6236787e-03 5.68e-06 7.43e-04  -4.0 7.54e-03  -2.0 1.00e+00 1.00e+00H  1\n"
     ]
    },
    {
     "name": "stdout",
     "output_type": "stream",
     "text": [
      "  99  1.6075952e-03 5.07e-06 4.96e+01  -4.0 1.35e-02  -2.5 1.00e+00 1.25e-01h  4\n"
     ]
    },
    {
     "name": "stdout",
     "output_type": "stream",
     "text": [
      "iter    objective    inf_pr   inf_du lg(mu)  ||d||  lg(rg) alpha_du alpha_pr  ls\n",
      " 100  1.8011890e-03 4.22e-06 1.24e+01  -4.0 1.73e-02  -3.0 1.00e+00 2.50e-01h  3\n"
     ]
    },
    {
     "name": "stdout",
     "output_type": "stream",
     "text": [
      "\n",
      "Number of Iterations....: 100\n",
      "\n",
      "                                   (scaled)                 (unscaled)\n",
      "Objective...............:   1.8011889877481355e-03    1.8011889877481355e-03\n",
      "Dual infeasibility......:   1.2411278888233566e+01    1.2411278888233566e+01\n",
      "Constraint violation....:   4.2245286799789646e-06    4.2245286799789646e-06\n",
      "Variable bound violation:   0.0000000000000000e+00    0.0000000000000000e+00\n",
      "Complementarity.........:   1.1765102673099178e-04    1.1765102673099178e-04\n",
      "Overall NLP error.......:   1.2411278888233566e+01    1.2411278888233566e+01\n",
      "\n",
      "\n",
      "Number of objective function evaluations             = 195\n",
      "Number of objective gradient evaluations             = 101\n",
      "Number of equality constraint evaluations            = 195\n",
      "Number of inequality constraint evaluations          = 0\n",
      "Number of equality constraint Jacobian evaluations   = 101\n",
      "Number of inequality constraint Jacobian evaluations = 0\n",
      "Number of Lagrangian Hessian evaluations             = 100\n",
      "Total seconds in IPOPT                               = 41.359\n",
      "\n",
      "EXIT: Maximum Number of Iterations Exceeded.\n"
     ]
    }
   ],
   "source": [
    "QuantumCollocation.solve!(prob)"
   ]
  },
  {
   "cell_type": "markdown",
   "metadata": {},
   "source": [
    "Let's now calculate the fidelity of the optimized unitary with the target unitary, via rollout with the full matrix exponential, this is achieved via the `unitary_fidelity` method."
   ]
  },
  {
   "cell_type": "code",
   "execution_count": 43,
   "metadata": {},
   "outputs": [
    {
     "name": "stdout",
     "output_type": "stream",
     "text": [
      "Fidelity: 0.9999951723559903\n"
     ]
    }
   ],
   "source": [
    "fid = unitary_fidelity(prob.trajectory, system)\n",
    "println(\"Fidelity: $fid\")"
   ]
  },
  {
   "cell_type": "markdown",
   "metadata": {},
   "source": [
    "And now let's plot the final solution for the unitary and controls."
   ]
  },
  {
   "cell_type": "code",
   "execution_count": 44,
   "metadata": {},
   "outputs": [
    {
     "ename": "UndefVarError",
     "evalue": "UndefVarError: `plot` not defined",
     "output_type": "error",
     "traceback": [
      "UndefVarError: `plot` not defined\n",
      "\n",
      "Stacktrace:\n",
      " [1] top-level scope\n",
      "   @ ~/work/RExLab/JuliaPackages/Piccolo.jl/examples/JuliaCon23/two_qubit.ipynb:1"
     ]
    }
   ],
   "source": [
    "plot(prob.trajectory, [:Ũ⃗, :a]; ignored_labels=[:Ũ⃗])"
   ]
  },
  {
   "cell_type": "markdown",
   "metadata": {},
   "source": [
    "## Minimum Time CNOT\n",
    "\n",
    "Now let's see how fast we can make this pulse, by setting up and solving a minimum time problem, using the solution we just found.\n",
    "\n",
    "We will add an objective term to the problem that penalizes the total time, as well as constraint on the final state of the form\n",
    "\n",
    "$$\n",
    "\\mathcal{F}(U(T)) \\geq \\mathcal{F}_{\\text{target}}.\n",
    "$$\n",
    "\n",
    "This enforce that the final fidelity does not decrease below the threshold $\\mathcal{F}_{\\text{target}}$, while also allowing the phase to shift."
   ]
  },
  {
   "cell_type": "code",
   "execution_count": 45,
   "metadata": {},
   "outputs": [],
   "source": [
    "# final fidelity constraint\n",
    "min_fidelity = 0.9999\n",
    "\n",
    "# minimum time objective weight\n",
    "D = 1000.0\n",
    "\n",
    "# define the problem\n",
    "mintime_prob = UnitaryMinimumTimeProblem(prob; D=D, final_fidelity=min_fidelity);"
   ]
  },
  {
   "cell_type": "code",
   "execution_count": null,
   "metadata": {},
   "outputs": [],
   "source": [
    "# solving the problem\n",
    "QuantumCollocation.solve!(mintime_prob; max_iter=max_iter)"
   ]
  },
  {
   "cell_type": "code",
   "execution_count": null,
   "metadata": {},
   "outputs": [],
   "source": [
    "mintime_final_fidelity = unitary_fidelity(mintime_prob.trajectory, system)\n",
    "println(\"Fidelity: $mintime_final_fidelity\")"
   ]
  },
  {
   "cell_type": "code",
   "execution_count": null,
   "metadata": {},
   "outputs": [],
   "source": [
    "plot(mintime_prob.trajectory, [:Ũ⃗, :a]; ignored_labels=[:Ũ⃗])"
   ]
  },
  {
   "cell_type": "code",
   "execution_count": null,
   "metadata": {},
   "outputs": [],
   "source": [
    "original_duration = times(prob.trajectory)[end]\n",
    "mintime_duration = times(mintime_prob.trajectory)[end]\n",
    "println(\"Original Duration: $original_duration ns\")\n",
    "println(\"Minimum Duration:  $mintime_duration ns\")"
   ]
  },
  {
   "cell_type": "markdown",
   "metadata": {},
   "source": [
    "## Model Mismatch and Iterative Learning Control\n",
    "\n",
    "Now let's imagine that our goal is to test this pulse on an experimental system where we anticipate some hamiltonian errors. First we will define some states on this system using the `cavity_state` function to create states $\\ket{g}$, $\\ket{e}$ for individual qubits, and $\\ket{gg}$, $\\ket{ge}$, $\\ket{eg}$, and $\\ket{ee}$ on the combined two qubit system."
   ]
  },
  {
   "cell_type": "code",
   "execution_count": null,
   "metadata": {},
   "outputs": [],
   "source": [
    "experimental_levels = 2\n",
    "\n",
    "# define quantum ground state |g⟩\n",
    "g = cavity_state(0, experimental_levels)\n",
    "\n",
    "# define quantum excited state |e⟩\n",
    "e = cavity_state(1, experimental_levels)\n",
    "\n",
    "# define quantum states |gg⟩, |ge⟩, |eg⟩, |ee⟩\n",
    "gg = g ⊗ g\n",
    "ge = g ⊗ e\n",
    "eg = e ⊗ g\n",
    "ee = e ⊗ e;"
   ]
  },
  {
   "cell_type": "markdown",
   "metadata": {},
   "source": [
    "Here we set up the experiments for the system using the `QuantumSimulationExperiment` constructor."
   ]
  },
  {
   "cell_type": "code",
   "execution_count": null,
   "metadata": {},
   "outputs": [],
   "source": [
    "# unitary fidelity measurement function\n",
    "unitary_fidelity_measurement = Ũ⃗ -> begin\n",
    "    U_experiment = iso_vec_to_operator(Ũ⃗)\n",
    "    return [unitary_fidelity(U_experiment, U_goal)]\n",
    "end\n",
    "\n",
    "experimental_initial_states = [\n",
    "    gg,\n",
    "    ge,\n",
    "    eg,\n",
    "    ee\n",
    "]\n",
    "\n",
    "measurement = Ũ⃗ -> begin\n",
    "    U_experiment = iso_vec_to_operator(Ũ⃗)\n",
    "    return [fidelity(U_experiment * ψ, U_goal * ψ) for ψ ∈ experimental_initial_states]\n",
    "end\n"
   ]
  },
  {
   "cell_type": "markdown",
   "metadata": {},
   "source": [
    "We will assume model mismatch of the form\n",
    "\n",
    "$$\n",
    "H_{\\text{error}} = \\epsilon_X (X \\otimes I + I \\otimes X) + \\epsilon_Y (Y \\otimes I + I \\otimes Y) + \\epsilon_Z (Z \\otimes I + I \\otimes Z)\n",
    "$$"
   ]
  },
  {
   "cell_type": "code",
   "execution_count": null,
   "metadata": {},
   "outputs": [],
   "source": [
    "\n",
    "X_error = 0.002 \n",
    "Y_error = -0.007\n",
    "Z_error = 0.006 \n",
    "\n",
    "H_error = -1.0im * (\n",
    "    X_error * (GATES[:X] ⊗ GATES[:I] + GATES[:I] ⊗ GATES[:X]) +\n",
    "    Y_error * (GATES[:Y] ⊗ GATES[:I] + GATES[:I] ⊗ GATES[:Y]) +\n",
    "    Z_error * (GATES[:Z] ⊗ GATES[:I] + GATES[:I] ⊗ GATES[:Z])\n",
    ") \n",
    "\n",
    "G_error = iso(H_error)"
   ]
  },
  {
   "cell_type": "code",
   "execution_count": null,
   "metadata": {},
   "outputs": [],
   "source": [
    "\n",
    "\n",
    "\n",
    "# define the measurement times\n",
    "τs = [prob.trajectory.T]\n",
    "\n",
    "# define initial unitary\n",
    "U_init = I(4) \n",
    "\n",
    "# define the simulation experiment\n",
    "experiment = QuantumSimulationExperiment(\n",
    "    system,\n",
    "    operator_to_iso_vec(U_init),\n",
    "    measurement,\n",
    "    τs;\n",
    "    unitary=true,\n",
    "    G_error_term=G_error\n",
    ");\n",
    "\n",
    "# define the simulation experiment\n",
    "unitary_fidelity_experiment = QuantumSimulationExperiment(\n",
    "    system,\n",
    "    operator_to_iso_vec(U_init),\n",
    "    unitary_fidelity_measurement,\n",
    "    τs;\n",
    "    unitary=true,\n",
    "    G_error_term=G_error\n",
    ");\n",
    "\n"
   ]
  },
  {
   "cell_type": "markdown",
   "metadata": {},
   "source": [
    "Here we define the reference trajectory and measure the unitary fidelity on the target system"
   ]
  },
  {
   "cell_type": "code",
   "execution_count": null,
   "metadata": {},
   "outputs": [],
   "source": [
    "# select goal trajectory\n",
    "# -------------------------------------\n",
    "# goal_prob = prob\n",
    "goal_prob = mintime_prob\n",
    "\n",
    "# calculate experimental fidelity\n",
    "experiment_fidelity = unitary_fidelity_experiment(\n",
    "    goal_prob.trajectory.a, \n",
    "    goal_prob.trajectory.Δt\n",
    ").ys[end][end]\n",
    "\n",
    "println(\"experimental fidelity = \", experiment_fidelity)"
   ]
  },
  {
   "cell_type": "markdown",
   "metadata": {},
   "source": [
    "Here we define and solve the ILC problem using the `ILCProblem` constructor and `solve!` method."
   ]
  },
  {
   "cell_type": "code",
   "execution_count": null,
   "metadata": {},
   "outputs": [],
   "source": [
    "# backtrackign line search intial step size\n",
    "α = 0.5^0\n",
    "\n",
    "ILC_max_iter = 100\n",
    "\n",
    "final_ILC_fidelities = []\n",
    "\n",
    "Qfs = range(10.0, 1000.0; step=10.0)\n",
    "\n",
    "for Qf ∈ Qfs \n",
    "    ILC_prob = ILCProblem(goal_prob, experiment; \n",
    "        α=α, \n",
    "        max_iter=ILC_max_iter,\n",
    "        Qf=Qf,\n",
    "        verbose=false,\n",
    "        optimizer_verbose=false\n",
    "    )\n",
    "\n",
    "    solve!(ILC_prob; verbose=false);\n",
    "\n",
    "    final_ILC_fidelity = unitary_fidelity_experiment(ILC_prob.Zs[end].a, ILC_prob.Zs[end].Δt).ys[end][end]\n",
    "\n",
    "    push!(final_ILC_fidelities, final_ILC_fidelity)\n",
    "end\n",
    "\n",
    "\n"
   ]
  },
  {
   "cell_type": "code",
   "execution_count": null,
   "metadata": {},
   "outputs": [],
   "source": [
    "println(length(Qfs))\n",
    "indices = 10:length(Qfs) \n",
    "lines(collect(Qfs[indices]), Float64[final_ILC_fidelities[indices]...])"
   ]
  },
  {
   "cell_type": "code",
   "execution_count": null,
   "metadata": {},
   "outputs": [],
   "source": [
    "# backtrackign line search intial step size\n",
    "α = 0.5^0\n",
    "\n",
    "ILC_max_iter = 100\n",
    "\n",
    "final_ILC_fidelities = []\n",
    "\n",
    "Qf = 700.0\n",
    "\n",
    "ILC_prob = ILCProblem(goal_prob, experiment; \n",
    "    α=α, \n",
    "    max_iter=ILC_max_iter,\n",
    "    Qf=Qf,\n",
    ")\n",
    "\n",
    "solve!(ILC_prob);\n",
    "\n"
   ]
  },
  {
   "cell_type": "code",
   "execution_count": null,
   "metadata": {},
   "outputs": [],
   "source": [
    "animation_path = \"two_qubit.gif\"\n",
    "save_animation(ILC_prob, animation_path; plot_states=false, fps=5);"
   ]
  },
  {
   "cell_type": "code",
   "execution_count": null,
   "metadata": {},
   "outputs": [],
   "source": [
    "final_ILC_fidelity = unitary_fidelity_experiment(ILC_prob.Zs[end].a, ILC_prob.Zs[end].Δt).ys[end][end]\n",
    "initial_ILC_fidelity = unitary_fidelity_experiment(ILC_prob.Zs[1].a, ILC_prob.Zs[1].Δt).ys[end][end]\n",
    "println(\"initial ILC fidelity: $initial_ILC_fidelity\")\n",
    "println(\"final ILC fidelity:   $final_ILC_fidelity\")"
   ]
  },
  {
   "cell_type": "code",
   "execution_count": null,
   "metadata": {},
   "outputs": [],
   "source": [
    "final_ILC_infidelity = 1.0 - final_ILC_fidelity\n",
    "initial_ILC_infidelity = 1.0 - initial_ILC_fidelity\n",
    "println(\"initial ILC infidelity: $initial_ILC_infidelity\")\n",
    "println(\"final ILC infidelity:   $final_ILC_infidelity\")"
   ]
  },
  {
   "cell_type": "code",
   "execution_count": null,
   "metadata": {},
   "outputs": [],
   "source": [
    "improvement_percentage = round((final_ILC_infidelity - initial_ILC_infidelity) / initial_ILC_infidelity * 100, digits=2)\n",
    "println(\"ILC relative infidelity decrease: \", improvement_percentage, \"%\")"
   ]
  },
  {
   "cell_type": "code",
   "execution_count": null,
   "metadata": {},
   "outputs": [],
   "source": [
    "flush(io)"
   ]
  },
  {
   "cell_type": "code",
   "execution_count": null,
   "metadata": {},
   "outputs": [],
   "source": []
  },
  {
   "cell_type": "code",
   "execution_count": null,
   "metadata": {},
   "outputs": [],
   "source": []
  },
  {
   "cell_type": "code",
   "execution_count": null,
   "metadata": {},
   "outputs": [],
   "source": []
  },
  {
   "cell_type": "code",
   "execution_count": null,
   "metadata": {},
   "outputs": [],
   "source": []
  },
  {
   "cell_type": "code",
   "execution_count": null,
   "metadata": {},
   "outputs": [],
   "source": []
  }
 ],
 "metadata": {
  "kernelspec": {
   "display_name": "Julia 1.8.5",
   "language": "julia",
   "name": "julia-1.8"
  },
  "language_info": {
   "file_extension": ".jl",
   "mimetype": "application/julia",
   "name": "julia",
   "version": "1.8.5"
  },
  "orig_nbformat": 4
 },
 "nbformat": 4,
 "nbformat_minor": 2
}
